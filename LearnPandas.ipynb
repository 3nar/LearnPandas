{
 "cells": [
  {
   "cell_type": "markdown",
   "id": "d52c6e8e-1d0e-4c59-9c1f-44ac30b5b38c",
   "metadata": {},
   "source": [
    "# Learn Pandas"
   ]
  },
  {
   "cell_type": "markdown",
   "id": "8a5063ca-68d7-4db4-8d89-31a1c6d76007",
   "metadata": {},
   "source": [
    "## Step 1"
   ]
  },
  {
   "cell_type": "markdown",
   "id": "804798e5-5447-4143-89da-c230d5125c75",
   "metadata": {},
   "source": [
    "### Importing Pandas"
   ]
  },
  {
   "cell_type": "code",
   "execution_count": 132,
   "id": "aac04397-325f-4ecc-9d69-70d89058b528",
   "metadata": {},
   "outputs": [],
   "source": [
    "import pandas as pd"
   ]
  },
  {
   "cell_type": "markdown",
   "id": "e7f9967c-8baa-49bc-af58-6c7a26d1b731",
   "metadata": {},
   "source": [
    "## Step 2"
   ]
  },
  {
   "cell_type": "markdown",
   "id": "72c27724-5c43-48f4-9a4b-361ff5c66817",
   "metadata": {},
   "source": [
    "### Series & DataFrame"
   ]
  },
  {
   "cell_type": "code",
   "execution_count": 133,
   "id": "9b88f63c-93ec-42ca-a2ee-bdf2dd207c9f",
   "metadata": {},
   "outputs": [
    {
     "name": "stdout",
     "output_type": "stream",
     "text": [
      "0    10\n",
      "1    20\n",
      "2    30\n",
      "3    40\n",
      "dtype: int64\n"
     ]
    }
   ],
   "source": [
    "data = [10, 20, 30, 40]\n",
    "series = pd.Series(data)\n",
    "print(series)"
   ]
  },
  {
   "cell_type": "code",
   "execution_count": 134,
   "id": "cd21dab1-69dd-4f12-a0a9-0b0edfb0d3d9",
   "metadata": {},
   "outputs": [
    {
     "name": "stdout",
     "output_type": "stream",
     "text": [
      "a    100\n",
      "b    200\n",
      "c    300\n",
      "d    400\n",
      "dtype: int64\n"
     ]
    }
   ],
   "source": [
    "data = [100, 200, 300, 400]\n",
    "index_labels = ['a', 'b', 'c', 'd']\n",
    "\n",
    "series = pd.Series(data, index=index_labels)\n",
    "print(series)"
   ]
  },
  {
   "cell_type": "code",
   "execution_count": 135,
   "id": "fb21b3cd-3102-4e51-97cc-7b5f9a6d0b1a",
   "metadata": {},
   "outputs": [
    {
     "name": "stdout",
     "output_type": "stream",
     "text": [
      "200\n"
     ]
    }
   ],
   "source": [
    "print(series['b'])"
   ]
  },
  {
   "cell_type": "code",
   "execution_count": 136,
   "id": "00114a0f-29ff-4134-b4c9-25eaef166ba3",
   "metadata": {},
   "outputs": [
    {
     "name": "stdout",
     "output_type": "stream",
     "text": [
      "Alice      90\n",
      "Bob        85\n",
      "Charlie    95\n",
      "dtype: int64\n"
     ]
    }
   ],
   "source": [
    "data_dict = {'Alice': 90, 'Bob': 85, 'Charlie': 95}\n",
    "series = pd.Series(data_dict)\n",
    "print(series)"
   ]
  },
  {
   "cell_type": "code",
   "execution_count": 137,
   "id": "f7f641ec-5075-4578-8a34-69985d85e28d",
   "metadata": {},
   "outputs": [
    {
     "name": "stdout",
     "output_type": "stream",
     "text": [
      "      Name  Age         City\n",
      "0    Alice   25     New York\n",
      "1      Bob   30  Los Angeles\n",
      "2  Charlie   35      Chicago\n"
     ]
    }
   ],
   "source": [
    "data = {\n",
    "    'Name': ['Alice', 'Bob', 'Charlie'],\n",
    "    'Age': [25, 30, 35],\n",
    "    'City': ['New York', 'Los Angeles', 'Chicago']\n",
    "}\n",
    "\n",
    "df = pd.DataFrame(data)\n",
    "print(df)"
   ]
  },
  {
   "cell_type": "code",
   "execution_count": 138,
   "id": "bef97ef2-07b2-43f8-b6c2-2bbd1544067a",
   "metadata": {},
   "outputs": [
    {
     "name": "stdout",
     "output_type": "stream",
     "text": [
      "      Name  Age         City\n",
      "0    Alice   25     New York\n",
      "1      Bob   30  Los Angeles\n",
      "2  Charlie   35      Chicago\n"
     ]
    }
   ],
   "source": [
    "print(df.head())"
   ]
  },
  {
   "cell_type": "code",
   "execution_count": 139,
   "id": "3025d3c1-f2d7-48ca-8ee9-b12d26e94a10",
   "metadata": {},
   "outputs": [
    {
     "name": "stdout",
     "output_type": "stream",
     "text": [
      "      Name  Age         City\n",
      "0    Alice   25     New York\n",
      "1      Bob   30  Los Angeles\n",
      "2  Charlie   35      Chicago\n"
     ]
    }
   ],
   "source": [
    "print(df.tail())"
   ]
  },
  {
   "cell_type": "code",
   "execution_count": 140,
   "id": "872c2438-d129-4306-8f22-00ef0ebe6c73",
   "metadata": {},
   "outputs": [
    {
     "name": "stdout",
     "output_type": "stream",
     "text": [
      "<class 'pandas.core.frame.DataFrame'>\n",
      "RangeIndex: 3 entries, 0 to 2\n",
      "Data columns (total 3 columns):\n",
      " #   Column  Non-Null Count  Dtype \n",
      "---  ------  --------------  ----- \n",
      " 0   Name    3 non-null      object\n",
      " 1   Age     3 non-null      int64 \n",
      " 2   City    3 non-null      object\n",
      "dtypes: int64(1), object(2)\n",
      "memory usage: 204.0+ bytes\n",
      "None\n"
     ]
    }
   ],
   "source": [
    "print(df.info())"
   ]
  },
  {
   "cell_type": "code",
   "execution_count": 141,
   "id": "f8b17ec8-124f-4aed-b4e1-9682c2ec2213",
   "metadata": {},
   "outputs": [
    {
     "name": "stdout",
     "output_type": "stream",
     "text": [
      "        Age\n",
      "count   3.0\n",
      "mean   30.0\n",
      "std     5.0\n",
      "min    25.0\n",
      "25%    27.5\n",
      "50%    30.0\n",
      "75%    32.5\n",
      "max    35.0\n"
     ]
    }
   ],
   "source": [
    "print(df.describe())"
   ]
  },
  {
   "cell_type": "markdown",
   "id": "0cfdc75c-a868-4c28-bdcd-11362d5f5bc3",
   "metadata": {},
   "source": [
    "## Step 3"
   ]
  },
  {
   "cell_type": "markdown",
   "id": "5ae2bd07-0a08-42f3-a03b-1a979f9d59ea",
   "metadata": {},
   "source": [
    "### Reading & Writing Data"
   ]
  },
  {
   "cell_type": "code",
   "execution_count": 142,
   "id": "6c31e8d6-1eb7-40e9-8a66-6f0ba2f24d14",
   "metadata": {},
   "outputs": [
    {
     "name": "stdout",
     "output_type": "stream",
     "text": [
      "   enrollee_id      city  city_development_index gender  \\\n",
      "0         8949  city_103                   0.920   Male   \n",
      "1        29725   city_40                   0.776   Male   \n",
      "2        11561   city_21                   0.624    NaN   \n",
      "3        33241  city_115                   0.789    NaN   \n",
      "4          666  city_162                   0.767   Male   \n",
      "\n",
      "       relevent_experience enrolled_university education_level  \\\n",
      "0  Has relevent experience       no_enrollment        Graduate   \n",
      "1   No relevent experience       no_enrollment        Graduate   \n",
      "2   No relevent experience    Full time course        Graduate   \n",
      "3   No relevent experience                 NaN        Graduate   \n",
      "4  Has relevent experience       no_enrollment         Masters   \n",
      "\n",
      "  major_discipline  experience company_size    company_type  training_hours  \\\n",
      "0             STEM        20.0          NaN             NaN            36.0   \n",
      "1             STEM        15.0        50-99         Pvt Ltd            47.0   \n",
      "2             STEM         5.0          NaN             NaN            83.0   \n",
      "3  Business Degree         0.0          NaN         Pvt Ltd            52.0   \n",
      "4             STEM        20.0        50-99  Funded Startup             8.0   \n",
      "\n",
      "   target  \n",
      "0     1.0  \n",
      "1     0.0  \n",
      "2     0.0  \n",
      "3     1.0  \n",
      "4     0.0  \n"
     ]
    }
   ],
   "source": [
    "df = pd.read_csv('data.csv')\n",
    "print(df.head())"
   ]
  },
  {
   "cell_type": "code",
   "execution_count": 143,
   "id": "b8b10203-d847-4a1b-b79e-c526ae192ad9",
   "metadata": {},
   "outputs": [
    {
     "name": "stdout",
     "output_type": "stream",
     "text": [
      "                0         1                       2       3   \\\n",
      "0      enrollee_id      city  city_development_index  gender   \n",
      "1             8949  city_103                    0.92    Male   \n",
      "2            29725   city_40      0.7759999999999999    Male   \n",
      "3            11561   city_21                   0.624     NaN   \n",
      "4            33241  city_115                   0.789     NaN   \n",
      "...            ...       ...                     ...     ...   \n",
      "19154         7386  city_173                   0.878    Male   \n",
      "19155        31398  city_103                    0.92    Male   \n",
      "19156        24576  city_103                    0.92    Male   \n",
      "19157         5756   city_65                   0.802    Male   \n",
      "19158        23834   city_67                   0.855     NaN   \n",
      "\n",
      "                            4                    5                6   \\\n",
      "0          relevent_experience  enrolled_university  education_level   \n",
      "1      Has relevent experience        no_enrollment         Graduate   \n",
      "2       No relevent experience        no_enrollment         Graduate   \n",
      "3       No relevent experience     Full time course         Graduate   \n",
      "4       No relevent experience                  NaN         Graduate   \n",
      "...                        ...                  ...              ...   \n",
      "19154   No relevent experience        no_enrollment         Graduate   \n",
      "19155  Has relevent experience        no_enrollment         Graduate   \n",
      "19156  Has relevent experience        no_enrollment         Graduate   \n",
      "19157  Has relevent experience        no_enrollment      High School   \n",
      "19158   No relevent experience        no_enrollment   Primary School   \n",
      "\n",
      "                     7           8             9             10  \\\n",
      "0      major_discipline  experience  company_size  company_type   \n",
      "1                  STEM          20           NaN           NaN   \n",
      "2                  STEM          15         50-99       Pvt Ltd   \n",
      "3                  STEM           5           NaN           NaN   \n",
      "4       Business Degree           0           NaN       Pvt Ltd   \n",
      "...                 ...         ...           ...           ...   \n",
      "19154        Humanities          14           NaN           NaN   \n",
      "19155              STEM          14           NaN           NaN   \n",
      "19156              STEM          20         50-99       Pvt Ltd   \n",
      "19157               NaN           0       500-999       Pvt Ltd   \n",
      "19158               NaN           2           NaN           NaN   \n",
      "\n",
      "                   11      12  \n",
      "0      training_hours  target  \n",
      "1                36.0     1.0  \n",
      "2                47.0     0.0  \n",
      "3                83.0     0.0  \n",
      "4                52.0     1.0  \n",
      "...               ...     ...  \n",
      "19154            42.0     1.0  \n",
      "19155            52.0     1.0  \n",
      "19156            44.0     0.0  \n",
      "19157            97.0     0.0  \n",
      "19158           127.0     0.0  \n",
      "\n",
      "[19159 rows x 13 columns]\n"
     ]
    }
   ],
   "source": [
    "df = pd.read_csv('data.csv', header=None)\n",
    "print(df)"
   ]
  },
  {
   "cell_type": "code",
   "execution_count": 144,
   "id": "29a146e1-2819-4ba3-bc01-60617f16667a",
   "metadata": {},
   "outputs": [
    {
     "name": "stdout",
     "output_type": "stream",
     "text": [
      "          enrollee_id  city_development_index gender      relevent_experience  \\\n",
      "city                                                                            \n",
      "city_103         8949                   0.920   Male  Has relevent experience   \n",
      "city_40         29725                   0.776   Male   No relevent experience   \n",
      "city_21         11561                   0.624    NaN   No relevent experience   \n",
      "city_115        33241                   0.789    NaN   No relevent experience   \n",
      "city_162          666                   0.767   Male  Has relevent experience   \n",
      "...               ...                     ...    ...                      ...   \n",
      "city_173         7386                   0.878   Male   No relevent experience   \n",
      "city_103        31398                   0.920   Male  Has relevent experience   \n",
      "city_103        24576                   0.920   Male  Has relevent experience   \n",
      "city_65          5756                   0.802   Male  Has relevent experience   \n",
      "city_67         23834                   0.855    NaN   No relevent experience   \n",
      "\n",
      "         enrolled_university education_level major_discipline  experience  \\\n",
      "city                                                                        \n",
      "city_103       no_enrollment        Graduate             STEM        20.0   \n",
      "city_40        no_enrollment        Graduate             STEM        15.0   \n",
      "city_21     Full time course        Graduate             STEM         5.0   \n",
      "city_115                 NaN        Graduate  Business Degree         0.0   \n",
      "city_162       no_enrollment         Masters             STEM        20.0   \n",
      "...                      ...             ...              ...         ...   \n",
      "city_173       no_enrollment        Graduate       Humanities        14.0   \n",
      "city_103       no_enrollment        Graduate             STEM        14.0   \n",
      "city_103       no_enrollment        Graduate             STEM        20.0   \n",
      "city_65        no_enrollment     High School              NaN         0.0   \n",
      "city_67        no_enrollment  Primary School              NaN         2.0   \n",
      "\n",
      "         company_size    company_type  training_hours  target  \n",
      "city                                                           \n",
      "city_103          NaN             NaN            36.0     1.0  \n",
      "city_40         50-99         Pvt Ltd            47.0     0.0  \n",
      "city_21           NaN             NaN            83.0     0.0  \n",
      "city_115          NaN         Pvt Ltd            52.0     1.0  \n",
      "city_162        50-99  Funded Startup             8.0     0.0  \n",
      "...               ...             ...             ...     ...  \n",
      "city_173          NaN             NaN            42.0     1.0  \n",
      "city_103          NaN             NaN            52.0     1.0  \n",
      "city_103        50-99         Pvt Ltd            44.0     0.0  \n",
      "city_65       500-999         Pvt Ltd            97.0     0.0  \n",
      "city_67           NaN             NaN           127.0     0.0  \n",
      "\n",
      "[19158 rows x 12 columns]\n"
     ]
    }
   ],
   "source": [
    "df = pd.read_csv('data.csv', index_col='city')\n",
    "print(df)"
   ]
  },
  {
   "cell_type": "code",
   "execution_count": 145,
   "id": "d7357a3d-6dbd-42f9-bd41-d2b1d8bb7de9",
   "metadata": {},
   "outputs": [
    {
     "name": "stdout",
     "output_type": "stream",
     "text": [
      "       enrollee_id      city  city_development_index gender  \\\n",
      "0             8949  city_103                   0.920   Male   \n",
      "1            29725   city_40                   0.776   Male   \n",
      "2            11561   city_21                   0.624    NaN   \n",
      "3            33241  city_115                   0.789    NaN   \n",
      "4              666  city_162                   0.767   Male   \n",
      "...            ...       ...                     ...    ...   \n",
      "19153         7386  city_173                   0.878   Male   \n",
      "19154        31398  city_103                   0.920   Male   \n",
      "19155        24576  city_103                   0.920   Male   \n",
      "19156         5756   city_65                   0.802   Male   \n",
      "19157        23834   city_67                   0.855    NaN   \n",
      "\n",
      "           relevent_experience enrolled_university education_level  \\\n",
      "0      Has relevent experience       no_enrollment        Graduate   \n",
      "1       No relevent experience       no_enrollment        Graduate   \n",
      "2       No relevent experience    Full time course        Graduate   \n",
      "3       No relevent experience                 NaN        Graduate   \n",
      "4      Has relevent experience       no_enrollment         Masters   \n",
      "...                        ...                 ...             ...   \n",
      "19153   No relevent experience       no_enrollment        Graduate   \n",
      "19154  Has relevent experience       no_enrollment        Graduate   \n",
      "19155  Has relevent experience       no_enrollment        Graduate   \n",
      "19156  Has relevent experience       no_enrollment     High School   \n",
      "19157   No relevent experience       no_enrollment  Primary School   \n",
      "\n",
      "      major_discipline  experience company_size    company_type  \\\n",
      "0                 STEM        20.0          NaN             NaN   \n",
      "1                 STEM        15.0        50-99         Pvt Ltd   \n",
      "2                 STEM         5.0          NaN             NaN   \n",
      "3      Business Degree         0.0          NaN         Pvt Ltd   \n",
      "4                 STEM        20.0        50-99  Funded Startup   \n",
      "...                ...         ...          ...             ...   \n",
      "19153       Humanities        14.0          NaN             NaN   \n",
      "19154             STEM        14.0          NaN             NaN   \n",
      "19155             STEM        20.0        50-99         Pvt Ltd   \n",
      "19156              NaN         0.0      500-999         Pvt Ltd   \n",
      "19157              NaN         2.0          NaN             NaN   \n",
      "\n",
      "       training_hours  target  \n",
      "0                36.0     1.0  \n",
      "1                47.0     0.0  \n",
      "2                83.0     0.0  \n",
      "3                52.0     1.0  \n",
      "4                 8.0     0.0  \n",
      "...               ...     ...  \n",
      "19153            42.0     1.0  \n",
      "19154            52.0     1.0  \n",
      "19155            44.0     0.0  \n",
      "19156            97.0     0.0  \n",
      "19157           127.0     0.0  \n",
      "\n",
      "[19158 rows x 13 columns]\n"
     ]
    }
   ],
   "source": [
    "df = pd.read_csv('data.csv', na_values=['NA', 'N/A', 'Missing'])\n",
    "print(df)"
   ]
  },
  {
   "cell_type": "code",
   "execution_count": 146,
   "id": "2d09a805-fc44-4fdd-9ce9-3c04f58995d9",
   "metadata": {},
   "outputs": [],
   "source": [
    "df.to_csv('output.csv', index=False)"
   ]
  },
  {
   "cell_type": "code",
   "execution_count": 147,
   "id": "992ddd20-836f-4b24-850f-83f9d905b542",
   "metadata": {},
   "outputs": [
    {
     "name": "stdout",
     "output_type": "stream",
     "text": [
      "     client_id                     full_name  age        gender  \\\n",
      "0            1  Герасим Владиленович Тихонов   76       Мужской   \n",
      "1            2     Соболева Марфа Дмитриевна   68       Женский   \n",
      "2            3     Новикова Кира Геннадьевна   75       Мужской   \n",
      "3            4   Кудрявцев Измаил Федосеевич   40       Мужской   \n",
      "4            5    Ангелина Аркадьевна Лапина   64       Женский   \n",
      "..         ...                           ...  ...           ...   \n",
      "220        221      Харитон Марсович Новиков   27       Мужской   \n",
      "221        222        Юдина Иванна Андреевна   36       Женский   \n",
      "222        223  Афанасьев Творимир Вилорович   43  Неразрешимый   \n",
      "223        224     Юлия Николаевна Артемьева   23       Мужской   \n",
      "224        225      Потапов Гедеон Абрамович   92       Мужской   \n",
      "\n",
      "     deposit_amount  interest_rate deposit_date                        email  \\\n",
      "0            444.00           7.33   2024-05-08      fokinvladlen@zhukova.ru   \n",
      "1         141271.96           6.68   2024-10-26  birjukovvenedikt@rambler.ru   \n",
      "2         373703.30           3.24   2024-01-19           pimen_1995@npo.biz   \n",
      "3         271911.53           5.65   2024-02-18             serafim47@npo.ru   \n",
      "4         324092.48           7.87   2023-12-22        stepanovamaja@rao.net   \n",
      "..              ...            ...          ...                          ...   \n",
      "220       561129.93          21.63   2024-03-24       uljana1989@hotmail.com   \n",
      "221      1823607.79           2.64   2024-01-29           polina29@yandex.ru   \n",
      "222       683894.54           3.20   2024-10-06     morozovnikodim@gmail.com   \n",
      "223       323559.59          14.98   2023-03-17         nina1974@hotmail.com   \n",
      "224      1960813.33          15.47   2020-02-21      narkis_1994@shneder.biz   \n",
      "\n",
      "      phone_number    account_type  branch_location  is_active  \n",
      "0    7543802895836         Текущий  Санкт-Петербург       True  \n",
      "1    7020708166798         Текущий           Москва      False  \n",
      "2    7331081529784         Текущий     Екатеринбург      False  \n",
      "3    7798771280631  Сберегательный           Казань      False  \n",
      "4    7525444647270         Текущий      Новосибирск      False  \n",
      "..             ...             ...              ...        ...  \n",
      "220  7485554892063  Сберегательный        Краснодар       True  \n",
      "221  7203530658954  Индивидуальный        Краснодар      False  \n",
      "222  7240799594128      Депозитный          Воронеж       True  \n",
      "223  7873979856776      Депозитный          Воронеж      False  \n",
      "224  7743929020470      Депозитный          Воронеж      False  \n",
      "\n",
      "[225 rows x 12 columns]\n"
     ]
    }
   ],
   "source": [
    "df = pd.read_excel('data.xlsx')\n",
    "print(df)"
   ]
  },
  {
   "cell_type": "code",
   "execution_count": 148,
   "id": "942a2064-5992-4383-8cb1-ee216ebdad1d",
   "metadata": {},
   "outputs": [
    {
     "name": "stdout",
     "output_type": "stream",
     "text": [
      "     client_id                     full_name  age        gender  \\\n",
      "0            1  Герасим Владиленович Тихонов   76       Мужской   \n",
      "1            2     Соболева Марфа Дмитриевна   68       Женский   \n",
      "2            3     Новикова Кира Геннадьевна   75       Мужской   \n",
      "3            4   Кудрявцев Измаил Федосеевич   40       Мужской   \n",
      "4            5    Ангелина Аркадьевна Лапина   64       Женский   \n",
      "..         ...                           ...  ...           ...   \n",
      "220        221      Харитон Марсович Новиков   27       Мужской   \n",
      "221        222        Юдина Иванна Андреевна   36       Женский   \n",
      "222        223  Афанасьев Творимир Вилорович   43  Неразрешимый   \n",
      "223        224     Юлия Николаевна Артемьева   23       Мужской   \n",
      "224        225      Потапов Гедеон Абрамович   92       Мужской   \n",
      "\n",
      "     deposit_amount  interest_rate deposit_date                        email  \\\n",
      "0            444.00           7.33   2024-05-08      fokinvladlen@zhukova.ru   \n",
      "1         141271.96           6.68   2024-10-26  birjukovvenedikt@rambler.ru   \n",
      "2         373703.30           3.24   2024-01-19           pimen_1995@npo.biz   \n",
      "3         271911.53           5.65   2024-02-18             serafim47@npo.ru   \n",
      "4         324092.48           7.87   2023-12-22        stepanovamaja@rao.net   \n",
      "..              ...            ...          ...                          ...   \n",
      "220       561129.93          21.63   2024-03-24       uljana1989@hotmail.com   \n",
      "221      1823607.79           2.64   2024-01-29           polina29@yandex.ru   \n",
      "222       683894.54           3.20   2024-10-06     morozovnikodim@gmail.com   \n",
      "223       323559.59          14.98   2023-03-17         nina1974@hotmail.com   \n",
      "224      1960813.33          15.47   2020-02-21      narkis_1994@shneder.biz   \n",
      "\n",
      "      phone_number    account_type  branch_location  is_active  \n",
      "0    7543802895836         Текущий  Санкт-Петербург       True  \n",
      "1    7020708166798         Текущий           Москва      False  \n",
      "2    7331081529784         Текущий     Екатеринбург      False  \n",
      "3    7798771280631  Сберегательный           Казань      False  \n",
      "4    7525444647270         Текущий      Новосибирск      False  \n",
      "..             ...             ...              ...        ...  \n",
      "220  7485554892063  Сберегательный        Краснодар       True  \n",
      "221  7203530658954  Индивидуальный        Краснодар      False  \n",
      "222  7240799594128      Депозитный          Воронеж       True  \n",
      "223  7873979856776      Депозитный          Воронеж      False  \n",
      "224  7743929020470      Депозитный          Воронеж      False  \n",
      "\n",
      "[225 rows x 12 columns]\n"
     ]
    }
   ],
   "source": [
    "df = pd.read_excel('data.xlsx', sheet_name='Sheet1')\n",
    "print(df)"
   ]
  },
  {
   "cell_type": "code",
   "execution_count": 149,
   "id": "1d54056b-6f66-4016-bf7f-279d7564b177",
   "metadata": {},
   "outputs": [
    {
     "name": "stdout",
     "output_type": "stream",
     "text": [
      "           client_id                     full_name  age        gender  \\\n",
      "is_active                                                               \n",
      "True               1  Герасим Владиленович Тихонов   76       Мужской   \n",
      "False              2     Соболева Марфа Дмитриевна   68       Женский   \n",
      "False              3     Новикова Кира Геннадьевна   75       Мужской   \n",
      "False              4   Кудрявцев Измаил Федосеевич   40       Мужской   \n",
      "False              5    Ангелина Аркадьевна Лапина   64       Женский   \n",
      "...              ...                           ...  ...           ...   \n",
      "True             221      Харитон Марсович Новиков   27       Мужской   \n",
      "False            222        Юдина Иванна Андреевна   36       Женский   \n",
      "True             223  Афанасьев Творимир Вилорович   43  Неразрешимый   \n",
      "False            224     Юлия Николаевна Артемьева   23       Мужской   \n",
      "False            225      Потапов Гедеон Абрамович   92       Мужской   \n",
      "\n",
      "           deposit_amount  interest_rate deposit_date  \\\n",
      "is_active                                               \n",
      "True               444.00           7.33   2024-05-08   \n",
      "False           141271.96           6.68   2024-10-26   \n",
      "False           373703.30           3.24   2024-01-19   \n",
      "False           271911.53           5.65   2024-02-18   \n",
      "False           324092.48           7.87   2023-12-22   \n",
      "...                   ...            ...          ...   \n",
      "True            561129.93          21.63   2024-03-24   \n",
      "False          1823607.79           2.64   2024-01-29   \n",
      "True            683894.54           3.20   2024-10-06   \n",
      "False           323559.59          14.98   2023-03-17   \n",
      "False          1960813.33          15.47   2020-02-21   \n",
      "\n",
      "                                 email   phone_number    account_type  \\\n",
      "is_active                                                               \n",
      "True           fokinvladlen@zhukova.ru  7543802895836         Текущий   \n",
      "False      birjukovvenedikt@rambler.ru  7020708166798         Текущий   \n",
      "False               pimen_1995@npo.biz  7331081529784         Текущий   \n",
      "False                 serafim47@npo.ru  7798771280631  Сберегательный   \n",
      "False            stepanovamaja@rao.net  7525444647270         Текущий   \n",
      "...                                ...            ...             ...   \n",
      "True            uljana1989@hotmail.com  7485554892063  Сберегательный   \n",
      "False               polina29@yandex.ru  7203530658954  Индивидуальный   \n",
      "True          morozovnikodim@gmail.com  7240799594128      Депозитный   \n",
      "False             nina1974@hotmail.com  7873979856776      Депозитный   \n",
      "False          narkis_1994@shneder.biz  7743929020470      Депозитный   \n",
      "\n",
      "           branch_location  \n",
      "is_active                   \n",
      "True       Санкт-Петербург  \n",
      "False               Москва  \n",
      "False         Екатеринбург  \n",
      "False               Казань  \n",
      "False          Новосибирск  \n",
      "...                    ...  \n",
      "True             Краснодар  \n",
      "False            Краснодар  \n",
      "True               Воронеж  \n",
      "False              Воронеж  \n",
      "False              Воронеж  \n",
      "\n",
      "[225 rows x 11 columns]\n"
     ]
    }
   ],
   "source": [
    "df = pd.read_excel('data.xlsx', index_col='is_active')\n",
    "print(df)"
   ]
  },
  {
   "cell_type": "code",
   "execution_count": 150,
   "id": "4512c61b-de52-4711-84cc-991590a56d35",
   "metadata": {},
   "outputs": [],
   "source": [
    "df.to_excel('output.xlsx',index=False)"
   ]
  },
  {
   "cell_type": "code",
   "execution_count": 151,
   "id": "74340f1a-601f-48fb-9de2-b4f7efcb9785",
   "metadata": {},
   "outputs": [],
   "source": [
    "df.to_excel('output.xlsx', sheet_name='ProcessedData', index=False)"
   ]
  },
  {
   "cell_type": "markdown",
   "id": "2b019802-aefa-425b-adc9-9617f4af0534",
   "metadata": {},
   "source": [
    "## Step 4"
   ]
  },
  {
   "cell_type": "markdown",
   "id": "a5904c47-bde8-4bfa-971c-5023a2adf4ec",
   "metadata": {},
   "source": [
    "### Selecting & Indexing Data"
   ]
  },
  {
   "cell_type": "code",
   "execution_count": 152,
   "id": "6134d8f5-0aaa-42ff-8b4d-0fcb8a13d99f",
   "metadata": {},
   "outputs": [
    {
     "name": "stdout",
     "output_type": "stream",
     "text": [
      "       enrollee_id      city  city_development_index gender  \\\n",
      "0             8949  city_103                   0.920   Male   \n",
      "1            29725   city_40                   0.776   Male   \n",
      "2            11561   city_21                   0.624    NaN   \n",
      "3            33241  city_115                   0.789    NaN   \n",
      "4              666  city_162                   0.767   Male   \n",
      "...            ...       ...                     ...    ...   \n",
      "19153         7386  city_173                   0.878   Male   \n",
      "19154        31398  city_103                   0.920   Male   \n",
      "19155        24576  city_103                   0.920   Male   \n",
      "19156         5756   city_65                   0.802   Male   \n",
      "19157        23834   city_67                   0.855    NaN   \n",
      "\n",
      "           relevent_experience enrolled_university education_level  \\\n",
      "0      Has relevent experience       no_enrollment        Graduate   \n",
      "1       No relevent experience       no_enrollment        Graduate   \n",
      "2       No relevent experience    Full time course        Graduate   \n",
      "3       No relevent experience                 NaN        Graduate   \n",
      "4      Has relevent experience       no_enrollment         Masters   \n",
      "...                        ...                 ...             ...   \n",
      "19153   No relevent experience       no_enrollment        Graduate   \n",
      "19154  Has relevent experience       no_enrollment        Graduate   \n",
      "19155  Has relevent experience       no_enrollment        Graduate   \n",
      "19156  Has relevent experience       no_enrollment     High School   \n",
      "19157   No relevent experience       no_enrollment  Primary School   \n",
      "\n",
      "      major_discipline  experience company_size    company_type  \\\n",
      "0                 STEM        20.0          NaN             NaN   \n",
      "1                 STEM        15.0        50-99         Pvt Ltd   \n",
      "2                 STEM         5.0          NaN             NaN   \n",
      "3      Business Degree         0.0          NaN         Pvt Ltd   \n",
      "4                 STEM        20.0        50-99  Funded Startup   \n",
      "...                ...         ...          ...             ...   \n",
      "19153       Humanities        14.0          NaN             NaN   \n",
      "19154             STEM        14.0          NaN             NaN   \n",
      "19155             STEM        20.0        50-99         Pvt Ltd   \n",
      "19156              NaN         0.0      500-999         Pvt Ltd   \n",
      "19157              NaN         2.0          NaN             NaN   \n",
      "\n",
      "       training_hours  target  \n",
      "0                36.0     1.0  \n",
      "1                47.0     0.0  \n",
      "2                83.0     0.0  \n",
      "3                52.0     1.0  \n",
      "4                 8.0     0.0  \n",
      "...               ...     ...  \n",
      "19153            42.0     1.0  \n",
      "19154            52.0     1.0  \n",
      "19155            44.0     0.0  \n",
      "19156            97.0     0.0  \n",
      "19157           127.0     0.0  \n",
      "\n",
      "[19158 rows x 13 columns]\n"
     ]
    }
   ],
   "source": [
    "data = pd.read_csv('data.csv')\n",
    "print(data)"
   ]
  },
  {
   "cell_type": "markdown",
   "id": "87f39e5b-6883-4f15-8572-a1a6e915a5da",
   "metadata": {},
   "source": [
    "### Selecting Columns"
   ]
  },
  {
   "cell_type": "code",
   "execution_count": 153,
   "id": "e6c1331f-0c7b-45ed-9ccb-f689d692f9ed",
   "metadata": {},
   "outputs": [
    {
     "name": "stdout",
     "output_type": "stream",
     "text": [
      "0         8949\n",
      "1        29725\n",
      "2        11561\n",
      "3        33241\n",
      "4          666\n",
      "         ...  \n",
      "19153     7386\n",
      "19154    31398\n",
      "19155    24576\n",
      "19156     5756\n",
      "19157    23834\n",
      "Name: enrollee_id, Length: 19158, dtype: int64\n"
     ]
    }
   ],
   "source": [
    "df = pd.DataFrame(data)\n",
    "print(df['enrollee_id'])"
   ]
  },
  {
   "cell_type": "code",
   "execution_count": 154,
   "id": "3541e66c-a2d3-4fa3-937a-f1f8a23c1d28",
   "metadata": {},
   "outputs": [
    {
     "name": "stdout",
     "output_type": "stream",
     "text": [
      "0        city_103\n",
      "1         city_40\n",
      "2         city_21\n",
      "3        city_115\n",
      "4        city_162\n",
      "           ...   \n",
      "19153    city_173\n",
      "19154    city_103\n",
      "19155    city_103\n",
      "19156     city_65\n",
      "19157     city_67\n",
      "Name: city, Length: 19158, dtype: object\n"
     ]
    }
   ],
   "source": [
    "print(df['city'])"
   ]
  },
  {
   "cell_type": "markdown",
   "id": "42b6d27b-7e46-4d34-af5d-6581bfb3fe65",
   "metadata": {},
   "source": [
    "### Selecting Multiple Columns"
   ]
  },
  {
   "cell_type": "code",
   "execution_count": 155,
   "id": "df24b01b-bbdb-4ad8-a7d7-3d2a8063dc36",
   "metadata": {},
   "outputs": [
    {
     "name": "stdout",
     "output_type": "stream",
     "text": [
      "       enrollee_id      city gender\n",
      "0             8949  city_103   Male\n",
      "1            29725   city_40   Male\n",
      "2            11561   city_21    NaN\n",
      "3            33241  city_115    NaN\n",
      "4              666  city_162   Male\n",
      "...            ...       ...    ...\n",
      "19153         7386  city_173   Male\n",
      "19154        31398  city_103   Male\n",
      "19155        24576  city_103   Male\n",
      "19156         5756   city_65   Male\n",
      "19157        23834   city_67    NaN\n",
      "\n",
      "[19158 rows x 3 columns]\n"
     ]
    }
   ],
   "source": [
    "df_subset = df[['enrollee_id' , 'city' , 'gender']]\n",
    "print(df_subset)"
   ]
  },
  {
   "cell_type": "markdown",
   "id": "b631a7ba-0096-45a0-be7e-8572b06c198f",
   "metadata": {},
   "source": [
    "### Selecting Rows"
   ]
  },
  {
   "cell_type": "markdown",
   "id": "35f68b2a-ebf1-43dc-a6e8-bec88d1d6063",
   "metadata": {},
   "source": [
    "### Selecting Rows by Index using .loc[]"
   ]
  },
  {
   "cell_type": "code",
   "execution_count": 156,
   "id": "3f37fdec-24ac-49db-b285-198d0f15ce28",
   "metadata": {},
   "outputs": [
    {
     "name": "stdout",
     "output_type": "stream",
     "text": [
      "enrollee_id                                29725\n",
      "city                                     city_40\n",
      "city_development_index                     0.776\n",
      "gender                                      Male\n",
      "relevent_experience       No relevent experience\n",
      "enrolled_university                no_enrollment\n",
      "education_level                         Graduate\n",
      "major_discipline                            STEM\n",
      "experience                                  15.0\n",
      "company_size                               50-99\n",
      "company_type                             Pvt Ltd\n",
      "training_hours                              47.0\n",
      "target                                       0.0\n",
      "Name: 1, dtype: object\n"
     ]
    }
   ],
   "source": [
    "print(df.loc[1])"
   ]
  },
  {
   "cell_type": "markdown",
   "id": "161235b8-45b2-4920-9085-b98133172b01",
   "metadata": {},
   "source": [
    "### Selecting Rows by Position using .iloc[]"
   ]
  },
  {
   "cell_type": "code",
   "execution_count": 157,
   "id": "dc92ba12-eb7a-4fd0-875d-1be1a8da0dfe",
   "metadata": {},
   "outputs": [
    {
     "name": "stdout",
     "output_type": "stream",
     "text": [
      "enrollee_id                                29725\n",
      "city                                     city_40\n",
      "city_development_index                     0.776\n",
      "gender                                      Male\n",
      "relevent_experience       No relevent experience\n",
      "enrolled_university                no_enrollment\n",
      "education_level                         Graduate\n",
      "major_discipline                            STEM\n",
      "experience                                  15.0\n",
      "company_size                               50-99\n",
      "company_type                             Pvt Ltd\n",
      "training_hours                              47.0\n",
      "target                                       0.0\n",
      "Name: 1, dtype: object\n"
     ]
    }
   ],
   "source": [
    "print(df.iloc[1])"
   ]
  },
  {
   "cell_type": "markdown",
   "id": "cdda421f-ba60-455b-abf4-841b617a9bd8",
   "metadata": {},
   "source": [
    "### Selecting Multiple Rows"
   ]
  },
  {
   "cell_type": "code",
   "execution_count": 158,
   "id": "7bb97412-5b12-4ac7-b918-b4763c891445",
   "metadata": {},
   "outputs": [
    {
     "name": "stdout",
     "output_type": "stream",
     "text": [
      "   enrollee_id      city  city_development_index gender  \\\n",
      "0         8949  city_103                   0.920   Male   \n",
      "3        33241  city_115                   0.789    NaN   \n",
      "\n",
      "       relevent_experience enrolled_university education_level  \\\n",
      "0  Has relevent experience       no_enrollment        Graduate   \n",
      "3   No relevent experience                 NaN        Graduate   \n",
      "\n",
      "  major_discipline  experience company_size company_type  training_hours  \\\n",
      "0             STEM        20.0          NaN          NaN            36.0   \n",
      "3  Business Degree         0.0          NaN      Pvt Ltd            52.0   \n",
      "\n",
      "   target  \n",
      "0     1.0  \n",
      "3     1.0  \n"
     ]
    }
   ],
   "source": [
    "print(df.loc[[0 , 3]])"
   ]
  },
  {
   "cell_type": "code",
   "execution_count": 159,
   "id": "2b65312a-5d56-4817-abe7-2004e364a5e0",
   "metadata": {},
   "outputs": [
    {
     "name": "stdout",
     "output_type": "stream",
     "text": [
      "   enrollee_id      city  city_development_index gender  \\\n",
      "0         8949  city_103                   0.920   Male   \n",
      "1        29725   city_40                   0.776   Male   \n",
      "2        11561   city_21                   0.624    NaN   \n",
      "\n",
      "       relevent_experience enrolled_university education_level  \\\n",
      "0  Has relevent experience       no_enrollment        Graduate   \n",
      "1   No relevent experience       no_enrollment        Graduate   \n",
      "2   No relevent experience    Full time course        Graduate   \n",
      "\n",
      "  major_discipline  experience company_size company_type  training_hours  \\\n",
      "0             STEM        20.0          NaN          NaN            36.0   \n",
      "1             STEM        15.0        50-99      Pvt Ltd            47.0   \n",
      "2             STEM         5.0          NaN          NaN            83.0   \n",
      "\n",
      "   target  \n",
      "0     1.0  \n",
      "1     0.0  \n",
      "2     0.0  \n"
     ]
    }
   ],
   "source": [
    "print(df.iloc[0:3])"
   ]
  },
  {
   "cell_type": "markdown",
   "id": "bb29453f-c3db-46ab-a59b-76cac36f04d4",
   "metadata": {},
   "source": [
    "### Filtering Data"
   ]
  },
  {
   "cell_type": "markdown",
   "id": "8aa3456e-5f7c-48e3-93bb-9129f5e97c41",
   "metadata": {},
   "source": [
    "### Filtering Rows Based on a Condition"
   ]
  },
  {
   "cell_type": "code",
   "execution_count": 160,
   "id": "308aa088-f1b1-4057-a963-3e008c343569",
   "metadata": {},
   "outputs": [
    {
     "name": "stdout",
     "output_type": "stream",
     "text": [
      "       enrollee_id      city  city_development_index gender  \\\n",
      "0             8949  city_103                   0.920   Male   \n",
      "1            29725   city_40                   0.776   Male   \n",
      "4              666  city_162                   0.767   Male   \n",
      "6            28806  city_160                   0.920   Male   \n",
      "7              402   city_46                   0.762   Male   \n",
      "...            ...       ...                     ...    ...   \n",
      "19151        11385  city_149                   0.689   Male   \n",
      "19153         7386  city_173                   0.878   Male   \n",
      "19154        31398  city_103                   0.920   Male   \n",
      "19155        24576  city_103                   0.920   Male   \n",
      "19156         5756   city_65                   0.802   Male   \n",
      "\n",
      "           relevent_experience enrolled_university education_level  \\\n",
      "0      Has relevent experience       no_enrollment        Graduate   \n",
      "1       No relevent experience       no_enrollment        Graduate   \n",
      "4      Has relevent experience       no_enrollment         Masters   \n",
      "6      Has relevent experience       no_enrollment     High School   \n",
      "7      Has relevent experience       no_enrollment        Graduate   \n",
      "...                        ...                 ...             ...   \n",
      "19151   No relevent experience    Full time course        Graduate   \n",
      "19153   No relevent experience       no_enrollment        Graduate   \n",
      "19154  Has relevent experience       no_enrollment        Graduate   \n",
      "19155  Has relevent experience       no_enrollment        Graduate   \n",
      "19156  Has relevent experience       no_enrollment     High School   \n",
      "\n",
      "      major_discipline  experience company_size    company_type  \\\n",
      "0                 STEM        20.0          NaN             NaN   \n",
      "1                 STEM        15.0        50-99         Pvt Ltd   \n",
      "4                 STEM        20.0        50-99  Funded Startup   \n",
      "6                  NaN         5.0        50-99  Funded Startup   \n",
      "7                 STEM        13.0          <10         Pvt Ltd   \n",
      "...                ...         ...          ...             ...   \n",
      "19151              NaN         2.0          NaN             NaN   \n",
      "19153       Humanities        14.0          NaN             NaN   \n",
      "19154             STEM        14.0          NaN             NaN   \n",
      "19155             STEM        20.0        50-99         Pvt Ltd   \n",
      "19156              NaN         0.0      500-999         Pvt Ltd   \n",
      "\n",
      "       training_hours  target  \n",
      "0                36.0     1.0  \n",
      "1                47.0     0.0  \n",
      "4                 8.0     0.0  \n",
      "6                24.0     0.0  \n",
      "7                18.0     1.0  \n",
      "...               ...     ...  \n",
      "19151            60.0     0.0  \n",
      "19153            42.0     1.0  \n",
      "19154            52.0     1.0  \n",
      "19155            44.0     0.0  \n",
      "19156            97.0     0.0  \n",
      "\n",
      "[13221 rows x 13 columns]\n"
     ]
    }
   ],
   "source": [
    "filtered_df = df[df['gender'] == 'Male']\n",
    "print(filtered_df)"
   ]
  },
  {
   "cell_type": "markdown",
   "id": "d88bb434-9e9e-4b9d-a4dc-e0816da26118",
   "metadata": {},
   "source": [
    "### Filtering with Multiple Conditions"
   ]
  },
  {
   "cell_type": "code",
   "execution_count": 162,
   "id": "54498f09-8b86-4d37-ae4d-8786a6bdc90d",
   "metadata": {},
   "outputs": [
    {
     "name": "stdout",
     "output_type": "stream",
     "text": [
      "       enrollee_id     city  city_development_index gender  \\\n",
      "1            29725  city_40                   0.776   Male   \n",
      "23            7041  city_40                   0.776   Male   \n",
      "363          28229  city_40                   0.776   Male   \n",
      "461          18620  city_40                   0.776   Male   \n",
      "827           1783  city_40                   0.776   Male   \n",
      "998          29671  city_40                   0.776   Male   \n",
      "2916         21646  city_40                   0.776   Male   \n",
      "3636         10085  city_40                   0.776   Male   \n",
      "4251          2603  city_40                   0.776   Male   \n",
      "4346          4051  city_40                   0.776   Male   \n",
      "4526         11840  city_40                     NaN   Male   \n",
      "4588          7010  city_40                   0.776   Male   \n",
      "5156          7556  city_40                   0.776   Male   \n",
      "6330          5389  city_40                   0.776   Male   \n",
      "6483           484  city_40                   0.776   Male   \n",
      "6990         14681  city_40                   0.776   Male   \n",
      "7009          1221  city_40                   0.776   Male   \n",
      "8606         10244  city_40                   0.776   Male   \n",
      "8661          3200  city_40                   0.776   Male   \n",
      "8847         27287  city_40                   0.776   Male   \n",
      "9390         33101  city_40                   0.776   Male   \n",
      "9658         17972  city_40                   0.776   Male   \n",
      "10952        23316  city_40                   0.776   Male   \n",
      "11072        25420  city_40                   0.776   Male   \n",
      "11700        16999  city_40                   0.776   Male   \n",
      "12228        12801  city_40                   0.776   Male   \n",
      "12601         8663  city_40                   0.776   Male   \n",
      "12782        27144  city_40                   0.776   Male   \n",
      "13385         9845  city_40                   0.776   Male   \n",
      "13520        22956  city_40                   0.776   Male   \n",
      "14231         1047  city_40                   0.776   Male   \n",
      "14462         8565  city_40                   0.776   Male   \n",
      "15553        28032  city_40                   0.776   Male   \n",
      "16174        15617  city_40                   0.776   Male   \n",
      "17315        25444  city_40                   0.776   Male   \n",
      "17324        15257  city_40                   0.776   Male   \n",
      "17761        31883  city_40                   0.776   Male   \n",
      "17803        11634  city_40                   0.776   Male   \n",
      "17849        12243  city_40                   0.776   Male   \n",
      "18061        11208  city_40                   0.776   Male   \n",
      "18191          157  city_40                   0.776   Male   \n",
      "18650        26348  city_40                   0.776   Male   \n",
      "19142        13750  city_40                   0.776   Male   \n",
      "\n",
      "           relevent_experience enrolled_university education_level  \\\n",
      "1       No relevent experience       no_enrollment        Graduate   \n",
      "23     Has relevent experience       no_enrollment        Graduate   \n",
      "363    Has relevent experience    Part time course        Graduate   \n",
      "461    Has relevent experience    Full time course        Graduate   \n",
      "827    Has relevent experience       no_enrollment         Masters   \n",
      "998     No relevent experience    Full time course        Graduate   \n",
      "2916    No relevent experience    Full time course     High School   \n",
      "3636   Has relevent experience    Full time course        Graduate   \n",
      "4251   Has relevent experience       no_enrollment     High School   \n",
      "4346   Has relevent experience       no_enrollment        Graduate   \n",
      "4526   Has relevent experience    Full time course        Graduate   \n",
      "4588   Has relevent experience       no_enrollment        Graduate   \n",
      "5156    No relevent experience    Full time course        Graduate   \n",
      "6330   Has relevent experience       no_enrollment     High School   \n",
      "6483    No relevent experience    Full time course     High School   \n",
      "6990   Has relevent experience       no_enrollment     High School   \n",
      "7009   Has relevent experience       no_enrollment         Masters   \n",
      "8606   Has relevent experience       no_enrollment        Graduate   \n",
      "8661   Has relevent experience       no_enrollment        Graduate   \n",
      "8847   Has relevent experience       no_enrollment         Masters   \n",
      "9390   Has relevent experience       no_enrollment        Graduate   \n",
      "9658   Has relevent experience       no_enrollment         Masters   \n",
      "10952  Has relevent experience       no_enrollment        Graduate   \n",
      "11072  Has relevent experience       no_enrollment        Graduate   \n",
      "11700  Has relevent experience       no_enrollment        Graduate   \n",
      "12228  Has relevent experience    Part time course        Graduate   \n",
      "12601  Has relevent experience    Part time course        Graduate   \n",
      "12782  Has relevent experience       no_enrollment        Graduate   \n",
      "13385  Has relevent experience       no_enrollment         Masters   \n",
      "13520  Has relevent experience                 NaN        Graduate   \n",
      "14231  Has relevent experience       no_enrollment     High School   \n",
      "14462  Has relevent experience       no_enrollment         Masters   \n",
      "15553  Has relevent experience       no_enrollment        Graduate   \n",
      "16174  Has relevent experience       no_enrollment        Graduate   \n",
      "17315  Has relevent experience       no_enrollment         Masters   \n",
      "17324  Has relevent experience       no_enrollment        Graduate   \n",
      "17761  Has relevent experience    Part time course        Graduate   \n",
      "17803  Has relevent experience       no_enrollment        Graduate   \n",
      "17849   No relevent experience    Full time course        Graduate   \n",
      "18061   No relevent experience    Full time course        Graduate   \n",
      "18191  Has relevent experience    Full time course        Graduate   \n",
      "18650  Has relevent experience       no_enrollment     High School   \n",
      "19142  Has relevent experience       no_enrollment             NaN   \n",
      "\n",
      "      major_discipline  experience company_size         company_type  \\\n",
      "1                 STEM        15.0        50-99              Pvt Ltd   \n",
      "23          Humanities         0.0    1000-4999              Pvt Ltd   \n",
      "363               STEM        18.0      100-500       Funded Startup   \n",
      "461               STEM        14.0    1000-4999              Pvt Ltd   \n",
      "827               STEM         7.0       10000+              Pvt Ltd   \n",
      "998               STEM         9.0          NaN                  NaN   \n",
      "2916               NaN         5.0          NaN                  NaN   \n",
      "3636              STEM        10.0    1000-4999              Pvt Ltd   \n",
      "4251               NaN         3.0        50-99              Pvt Ltd   \n",
      "4346              STEM        20.0    1000-4999              Pvt Ltd   \n",
      "4526              STEM         3.0        50-99              Pvt Ltd   \n",
      "4588              STEM         5.0          <10              Pvt Ltd   \n",
      "5156              STEM         5.0          NaN                  NaN   \n",
      "6330               NaN         1.0        10/49              Pvt Ltd   \n",
      "6483               NaN         3.0          NaN              Pvt Ltd   \n",
      "6990               NaN        16.0      100-500       Funded Startup   \n",
      "7009              STEM        10.0    1000-4999              Pvt Ltd   \n",
      "8606             Other         4.0          <10              Pvt Ltd   \n",
      "8661        Humanities        20.0          NaN                  NaN   \n",
      "8847             Other        10.0          <10              Pvt Ltd   \n",
      "9390              STEM        10.0      500-999              Pvt Ltd   \n",
      "9658              STEM         6.0          <10              Pvt Ltd   \n",
      "10952             STEM        20.0        10/49              Pvt Ltd   \n",
      "11072             STEM        20.0          NaN                  NaN   \n",
      "11700         No Major         6.0          <10              Pvt Ltd   \n",
      "12228             STEM        20.0      100-500        Public Sector   \n",
      "12601             STEM        10.0        10/49              Pvt Ltd   \n",
      "12782             STEM        20.0          <10              Pvt Ltd   \n",
      "13385             STEM        15.0        50-99              Pvt Ltd   \n",
      "13520             STEM         5.0        50-99                  NaN   \n",
      "14231              NaN        19.0          NaN                  NaN   \n",
      "14462             STEM         7.0        50-99                  NaN   \n",
      "15553             STEM         4.0          NaN                  NaN   \n",
      "16174       Humanities        11.0        10/49              Pvt Ltd   \n",
      "17315             STEM        10.0      100-500              Pvt Ltd   \n",
      "17324             STEM        20.0          NaN                  NaN   \n",
      "17761             STEM         5.0        50-99              Pvt Ltd   \n",
      "17803             STEM         4.0        10/49              Pvt Ltd   \n",
      "17849             STEM         7.0          NaN                  NaN   \n",
      "18061             STEM         0.0          NaN                  NaN   \n",
      "18191             STEM         5.0       10000+              Pvt Ltd   \n",
      "18650              NaN        13.0        50-99              Pvt Ltd   \n",
      "19142              NaN         5.0        10/49  Early Stage Startup   \n",
      "\n",
      "       training_hours  target  \n",
      "1                47.0     0.0  \n",
      "23               65.0     0.0  \n",
      "363              51.0     0.0  \n",
      "461              52.0     0.0  \n",
      "827              56.0     0.0  \n",
      "998              50.0     0.0  \n",
      "2916             56.0     1.0  \n",
      "3636            104.0     0.0  \n",
      "4251             28.0     0.0  \n",
      "4346             20.0     0.0  \n",
      "4526              9.0     0.0  \n",
      "4588              4.0     0.0  \n",
      "5156            330.0     0.0  \n",
      "6330             89.0     0.0  \n",
      "6483             22.0     0.0  \n",
      "6990             76.0     0.0  \n",
      "7009             32.0     0.0  \n",
      "8606            108.0     0.0  \n",
      "8661             29.0     0.0  \n",
      "8847             35.0     0.0  \n",
      "9390             32.0     0.0  \n",
      "9658             54.0     0.0  \n",
      "10952            15.0     0.0  \n",
      "11072            22.0     0.0  \n",
      "11700           144.0     0.0  \n",
      "12228            89.0     0.0  \n",
      "12601            13.0     0.0  \n",
      "12782            58.0     0.0  \n",
      "13385            78.0     0.0  \n",
      "13520            98.0     0.0  \n",
      "14231            72.0     0.0  \n",
      "14462            25.0     1.0  \n",
      "15553            89.0     1.0  \n",
      "16174            50.0     0.0  \n",
      "17315            22.0     0.0  \n",
      "17324            90.0     0.0  \n",
      "17761            98.0     0.0  \n",
      "17803            61.0     0.0  \n",
      "17849             1.0     0.0  \n",
      "18061           127.0     1.0  \n",
      "18191            42.0     0.0  \n",
      "18650            10.0     0.0  \n",
      "19142            26.0     0.0  \n"
     ]
    }
   ],
   "source": [
    "df_filtered = df[(df['gender'] == 'Male') & (df['city'] == 'city_40')]\n",
    "print(df_filtered)"
   ]
  },
  {
   "cell_type": "markdown",
   "id": "63ac1e87-f004-4c6c-91cd-e34a80ab7404",
   "metadata": {},
   "source": [
    "### Step 5"
   ]
  },
  {
   "cell_type": "markdown",
   "id": "8eb47758-48ae-4d12-b55e-d8289dd8e799",
   "metadata": {},
   "source": [
    "### Data Cleaning & Handling Missing Values in Pandas"
   ]
  },
  {
   "cell_type": "markdown",
   "id": "c2111381-de0b-42e2-959e-04dc92d49ebe",
   "metadata": {},
   "source": [
    "### Checking for Missing Values"
   ]
  },
  {
   "cell_type": "code",
   "execution_count": 181,
   "id": "98d19b66-f92b-4f0e-bc27-24154b8e3db3",
   "metadata": {},
   "outputs": [
    {
     "name": "stdout",
     "output_type": "stream",
     "text": [
      "    Name    Age   City  Salary\n",
      "0  False  False  False   False\n",
      "1  False   True  False   False\n",
      "2  False  False   True   False\n",
      "3  False  False  False    True\n"
     ]
    }
   ],
   "source": [
    "data = {\n",
    "    'Name': ['Alice', 'Bob', 'Charlie', 'David'],\n",
    "    'Age': [25, None, 35, 40],  \n",
    "    'City': ['New York', 'Los Angeles', None, 'Chicago'],  \n",
    "    'Salary': [50000, 60000, 70000, None]  \n",
    "}\n",
    "\n",
    "df = pd.DataFrame(data)\n",
    "\n",
    "print(df.isnull())"
   ]
  },
  {
   "cell_type": "markdown",
   "id": "f9272356-edef-4834-bc30-1405b0f6a7aa",
   "metadata": {},
   "source": [
    "### Count Missing Values Per Column"
   ]
  },
  {
   "cell_type": "code",
   "execution_count": 182,
   "id": "f79a707d-802f-4bc3-babc-b4403b7db975",
   "metadata": {},
   "outputs": [
    {
     "name": "stdout",
     "output_type": "stream",
     "text": [
      "Name      0\n",
      "Age       1\n",
      "City      1\n",
      "Salary    1\n",
      "dtype: int64\n"
     ]
    }
   ],
   "source": [
    "print(df.isnull().sum())"
   ]
  },
  {
   "cell_type": "markdown",
   "id": "e6ee049e-a3d8-40b7-a410-a820b2ac380c",
   "metadata": {},
   "source": [
    "### Fill Missing Values with a Specific Value"
   ]
  },
  {
   "cell_type": "code",
   "execution_count": 184,
   "id": "f3e006dc-79e4-42f7-9714-94824499d523",
   "metadata": {},
   "outputs": [
    {
     "name": "stdout",
     "output_type": "stream",
     "text": [
      "      Name   Age         City   Salary\n",
      "0    Alice  25.0     New York  50000.0\n",
      "1      Bob   0.0  Los Angeles  60000.0\n",
      "2  Charlie  35.0            0  70000.0\n",
      "3    David  40.0      Chicago      0.0\n"
     ]
    }
   ],
   "source": [
    "df_filled = df.fillna(0)\n",
    "print(df_filled)"
   ]
  },
  {
   "cell_type": "markdown",
   "id": "0150a369-9166-4988-8292-2618b1a5d943",
   "metadata": {},
   "source": [
    "### Fill Missing Values with Column Mean (for Numerical Data)"
   ]
  },
  {
   "cell_type": "code",
   "execution_count": 185,
   "id": "d1090eaf-1eaf-4dee-ad45-f2321725f1a0",
   "metadata": {},
   "outputs": [
    {
     "name": "stderr",
     "output_type": "stream",
     "text": [
      "C:\\Users\\msi\\AppData\\Local\\Temp\\ipykernel_8152\\89747827.py:1: FutureWarning: A value is trying to be set on a copy of a DataFrame or Series through chained assignment using an inplace method.\n",
      "The behavior will change in pandas 3.0. This inplace method will never work because the intermediate object on which we are setting values always behaves as a copy.\n",
      "\n",
      "For example, when doing 'df[col].method(value, inplace=True)', try using 'df.method({col: value}, inplace=True)' or df[col] = df[col].method(value) instead, to perform the operation inplace on the original object.\n",
      "\n",
      "\n",
      "  df['Age'].fillna(df['Age'].mean(), inplace=True)\n",
      "C:\\Users\\msi\\AppData\\Local\\Temp\\ipykernel_8152\\89747827.py:2: FutureWarning: A value is trying to be set on a copy of a DataFrame or Series through chained assignment using an inplace method.\n",
      "The behavior will change in pandas 3.0. This inplace method will never work because the intermediate object on which we are setting values always behaves as a copy.\n",
      "\n",
      "For example, when doing 'df[col].method(value, inplace=True)', try using 'df.method({col: value}, inplace=True)' or df[col] = df[col].method(value) instead, to perform the operation inplace on the original object.\n",
      "\n",
      "\n",
      "  df['Salary'].fillna(df['Salary'].median(), inplace=True)\n"
     ]
    }
   ],
   "source": [
    "df['Age'].fillna(df['Age'].mean(), inplace=True) \n",
    "df['Salary'].fillna(df['Salary'].median(), inplace=True)  "
   ]
  },
  {
   "cell_type": "markdown",
   "id": "07a8fb08-32fc-4385-9f37-3937d102cc4a",
   "metadata": {},
   "source": [
    "### Fill Missing Values with Mode (Most Frequent Value)"
   ]
  },
  {
   "cell_type": "code",
   "execution_count": 186,
   "id": "bb41a4dc-e155-4725-b2cf-795550cc0500",
   "metadata": {},
   "outputs": [
    {
     "name": "stderr",
     "output_type": "stream",
     "text": [
      "C:\\Users\\msi\\AppData\\Local\\Temp\\ipykernel_8152\\1488218936.py:1: FutureWarning: A value is trying to be set on a copy of a DataFrame or Series through chained assignment using an inplace method.\n",
      "The behavior will change in pandas 3.0. This inplace method will never work because the intermediate object on which we are setting values always behaves as a copy.\n",
      "\n",
      "For example, when doing 'df[col].method(value, inplace=True)', try using 'df.method({col: value}, inplace=True)' or df[col] = df[col].method(value) instead, to perform the operation inplace on the original object.\n",
      "\n",
      "\n",
      "  df['City'].fillna(df['City'].mode()[0], inplace=True)\n"
     ]
    }
   ],
   "source": [
    "df['City'].fillna(df['City'].mode()[0], inplace=True)"
   ]
  },
  {
   "cell_type": "markdown",
   "id": "39c0b07f-a5bd-4aca-bab2-7bd23e958371",
   "metadata": {},
   "source": [
    "### Forward Fill (ffill)\n",
    "Fills missing values with the previous row’s value."
   ]
  },
  {
   "cell_type": "code",
   "execution_count": 187,
   "id": "e1909120-44b1-44f1-b657-8178db97a62e",
   "metadata": {},
   "outputs": [
    {
     "name": "stderr",
     "output_type": "stream",
     "text": [
      "C:\\Users\\msi\\AppData\\Local\\Temp\\ipykernel_8152\\3970806690.py:1: FutureWarning: DataFrame.fillna with 'method' is deprecated and will raise in a future version. Use obj.ffill() or obj.bfill() instead.\n",
      "  df.fillna(method='ffill', inplace=True)\n"
     ]
    }
   ],
   "source": [
    "df.fillna(method='ffill', inplace=True)"
   ]
  },
  {
   "cell_type": "markdown",
   "id": "a763242f-55cf-40b8-ae5b-2e2b046f7f98",
   "metadata": {},
   "source": [
    "### Backward Fill (bfill)\n",
    "Fills missing values with the next row’s value."
   ]
  },
  {
   "cell_type": "code",
   "execution_count": 188,
   "id": "e336b9b9-20cd-41d6-8459-d60feccb7527",
   "metadata": {},
   "outputs": [
    {
     "name": "stderr",
     "output_type": "stream",
     "text": [
      "C:\\Users\\msi\\AppData\\Local\\Temp\\ipykernel_8152\\3314729575.py:1: FutureWarning: DataFrame.fillna with 'method' is deprecated and will raise in a future version. Use obj.ffill() or obj.bfill() instead.\n",
      "  df.fillna(method='bfill', inplace=True)\n"
     ]
    }
   ],
   "source": [
    "df.fillna(method='bfill', inplace=True)"
   ]
  },
  {
   "cell_type": "code",
   "execution_count": 189,
   "id": "47da5280-e28c-4297-899e-e4f4a65e1331",
   "metadata": {},
   "outputs": [
    {
     "name": "stdout",
     "output_type": "stream",
     "text": [
      "Name      0\n",
      "Age       0\n",
      "City      0\n",
      "Salary    0\n",
      "dtype: int64\n"
     ]
    }
   ],
   "source": [
    "print(df.isnull().sum())"
   ]
  },
  {
   "cell_type": "markdown",
   "id": "882574c2-36a9-4e41-a31a-69a0779b2b79",
   "metadata": {},
   "source": [
    "### Dropping Missing Values (df.dropna())"
   ]
  },
  {
   "cell_type": "markdown",
   "id": "bc30a29d-4497-4061-b5e4-cd5c39cf60fc",
   "metadata": {},
   "source": [
    "### Drop Rows with Missing Values"
   ]
  },
  {
   "cell_type": "code",
   "execution_count": 191,
   "id": "8a9af2c6-eb26-4abb-937a-20cf6c85b660",
   "metadata": {},
   "outputs": [
    {
     "name": "stdout",
     "output_type": "stream",
     "text": [
      "      Name        Age         City   Salary\n",
      "0    Alice  25.000000     New York  50000.0\n",
      "1      Bob  33.333333  Los Angeles  60000.0\n",
      "2  Charlie  35.000000      Chicago  70000.0\n",
      "3    David  40.000000      Chicago  60000.0\n"
     ]
    }
   ],
   "source": [
    "df_dropped = df.dropna()\n",
    "print(df_dropped)"
   ]
  },
  {
   "cell_type": "markdown",
   "id": "689516df-5dcb-4e6d-80e7-18a87aca1740",
   "metadata": {},
   "source": [
    "### Drop Columns with Missing Values"
   ]
  },
  {
   "cell_type": "code",
   "execution_count": 192,
   "id": "7cd63f7d-267a-4448-865a-a6da729f52cd",
   "metadata": {},
   "outputs": [
    {
     "name": "stdout",
     "output_type": "stream",
     "text": [
      "      Name        Age         City   Salary\n",
      "0    Alice  25.000000     New York  50000.0\n",
      "1      Bob  33.333333  Los Angeles  60000.0\n",
      "2  Charlie  35.000000      Chicago  70000.0\n",
      "3    David  40.000000      Chicago  60000.0\n"
     ]
    }
   ],
   "source": [
    "df_dropped_cols = df.dropna(axis=1)\n",
    "print(df_dropped_cols)"
   ]
  },
  {
   "cell_type": "markdown",
   "id": "44b17509-8c90-4f23-85cf-c2e0b88692c2",
   "metadata": {},
   "source": [
    "### Drop Rows Only if All Values are Missing"
   ]
  },
  {
   "cell_type": "code",
   "execution_count": 193,
   "id": "c0571144-4c7a-464c-8ae0-29aec13a6ff4",
   "metadata": {},
   "outputs": [],
   "source": [
    "df.dropna(how='all', inplace=True)"
   ]
  },
  {
   "cell_type": "markdown",
   "id": "3e6660e5-1af0-4414-882d-9cce921dbca3",
   "metadata": {},
   "source": [
    "### Drop Rows if a Specific Column has Missing Values"
   ]
  },
  {
   "cell_type": "code",
   "execution_count": 194,
   "id": "5aaa2de8-33d1-42c5-acb8-17e76322b2f8",
   "metadata": {},
   "outputs": [],
   "source": [
    "df.dropna(subset=['Age'], inplace=True)"
   ]
  },
  {
   "cell_type": "code",
   "execution_count": 195,
   "id": "82abc8c3-0c05-4a7d-84c3-36be055e73ff",
   "metadata": {},
   "outputs": [
    {
     "name": "stdout",
     "output_type": "stream",
     "text": [
      "      Name        Age         City   Salary\n",
      "0    Alice  25.000000     New York  50000.0\n",
      "1      Bob  33.333333  Los Angeles  60000.0\n",
      "2  Charlie  35.000000      Chicago  70000.0\n",
      "3    David  40.000000      Chicago  60000.0\n"
     ]
    }
   ],
   "source": [
    "print(df.head())"
   ]
  },
  {
   "cell_type": "markdown",
   "id": "c6eaea57-9309-4676-a52e-cb57230f1835",
   "metadata": {},
   "source": [
    "### Now let's go to learn Cleaning & Handling Missing Values in Pandas with realy data"
   ]
  },
  {
   "cell_type": "code",
   "execution_count": 197,
   "id": "fc337aa6-1bd8-4262-8dab-15fd60518e90",
   "metadata": {},
   "outputs": [
    {
     "name": "stdout",
     "output_type": "stream",
     "text": [
      "   enrollee_id      city  city_development_index gender  \\\n",
      "0         8949  city_103                   0.920   Male   \n",
      "1        29725   city_40                   0.776   Male   \n",
      "2        11561   city_21                   0.624    NaN   \n",
      "3        33241  city_115                   0.789    NaN   \n",
      "4          666  city_162                   0.767   Male   \n",
      "\n",
      "       relevent_experience enrolled_university education_level  \\\n",
      "0  Has relevent experience       no_enrollment        Graduate   \n",
      "1   No relevent experience       no_enrollment        Graduate   \n",
      "2   No relevent experience    Full time course        Graduate   \n",
      "3   No relevent experience                 NaN        Graduate   \n",
      "4  Has relevent experience       no_enrollment         Masters   \n",
      "\n",
      "  major_discipline  experience company_size    company_type  training_hours  \\\n",
      "0             STEM        20.0          NaN             NaN            36.0   \n",
      "1             STEM        15.0        50-99         Pvt Ltd            47.0   \n",
      "2             STEM         5.0          NaN             NaN            83.0   \n",
      "3  Business Degree         0.0          NaN         Pvt Ltd            52.0   \n",
      "4             STEM        20.0        50-99  Funded Startup             8.0   \n",
      "\n",
      "   target  \n",
      "0     1.0  \n",
      "1     0.0  \n",
      "2     0.0  \n",
      "3     1.0  \n",
      "4     0.0  \n"
     ]
    }
   ],
   "source": [
    "df = pd.read_csv('data.csv')\n",
    "\n",
    "print(df.head())"
   ]
  },
  {
   "cell_type": "markdown",
   "id": "281d52ac-7521-41bf-bed1-e34bdc5e0659",
   "metadata": {},
   "source": [
    "### Learn more about data type"
   ]
  },
  {
   "cell_type": "code",
   "execution_count": 171,
   "id": "725181ee-dbeb-42cc-86f8-2b00414303eb",
   "metadata": {},
   "outputs": [
    {
     "name": "stdout",
     "output_type": "stream",
     "text": [
      "<class 'pandas.core.frame.DataFrame'>\n",
      "RangeIndex: 19158 entries, 0 to 19157\n",
      "Data columns (total 13 columns):\n",
      " #   Column                  Non-Null Count  Dtype  \n",
      "---  ------                  --------------  -----  \n",
      " 0   enrollee_id             19158 non-null  int64  \n",
      " 1   city                    19158 non-null  object \n",
      " 2   city_development_index  18679 non-null  float64\n",
      " 3   gender                  14650 non-null  object \n",
      " 4   relevent_experience     19158 non-null  object \n",
      " 5   enrolled_university     18772 non-null  object \n",
      " 6   education_level         18698 non-null  object \n",
      " 7   major_discipline        16345 non-null  object \n",
      " 8   experience              19093 non-null  float64\n",
      " 9   company_size            13220 non-null  object \n",
      " 10  company_type            13018 non-null  object \n",
      " 11  training_hours          18392 non-null  float64\n",
      " 12  target                  19158 non-null  float64\n",
      "dtypes: float64(4), int64(1), object(8)\n",
      "memory usage: 1.9+ MB\n",
      "None\n"
     ]
    }
   ],
   "source": [
    "print(df.info())"
   ]
  },
  {
   "cell_type": "markdown",
   "id": "b2d3ca76-fd64-4a90-9bf5-2d8811184088",
   "metadata": {},
   "source": [
    "### we have - dtypes: float64(4), int64(1), object(8)"
   ]
  },
  {
   "cell_type": "markdown",
   "id": "7499c797-22f3-4d88-8830-cac968382196",
   "metadata": {},
   "source": [
    "### Check for missing values"
   ]
  },
  {
   "cell_type": "code",
   "execution_count": 172,
   "id": "ce5cdb30-5577-4728-9be2-b3a3f5bc4b4d",
   "metadata": {},
   "outputs": [
    {
     "name": "stdout",
     "output_type": "stream",
     "text": [
      "enrollee_id                  0\n",
      "city                         0\n",
      "city_development_index     479\n",
      "gender                    4508\n",
      "relevent_experience          0\n",
      "enrolled_university        386\n",
      "education_level            460\n",
      "major_discipline          2813\n",
      "experience                  65\n",
      "company_size              5938\n",
      "company_type              6140\n",
      "training_hours             766\n",
      "target                       0\n",
      "dtype: int64\n"
     ]
    }
   ],
   "source": [
    "print(df.isnull().sum())"
   ]
  },
  {
   "cell_type": "markdown",
   "id": "04a5771e-004f-46eb-998b-b18f9a87cf8d",
   "metadata": {},
   "source": [
    "### Check percentage of missing values"
   ]
  },
  {
   "cell_type": "code",
   "execution_count": 174,
   "id": "920aa809-39d6-4452-8f90-6c1bcee0206a",
   "metadata": {},
   "outputs": [
    {
     "name": "stdout",
     "output_type": "stream",
     "text": [
      "enrollee_id                0.000000\n",
      "city                       0.000000\n",
      "city_development_index     2.500261\n",
      "gender                    23.530640\n",
      "relevent_experience        0.000000\n",
      "enrolled_university        2.014824\n",
      "education_level            2.401086\n",
      "major_discipline          14.683161\n",
      "experience                 0.339284\n",
      "company_size              30.994885\n",
      "company_type              32.049274\n",
      "training_hours             3.998330\n",
      "target                     0.000000\n",
      "dtype: float64\n"
     ]
    }
   ],
   "source": [
    "missing_percenttage = (df.isnull().sum() / len(df)) * 100\n",
    "print(missing_percenttage)"
   ]
  },
  {
   "cell_type": "markdown",
   "id": "fda2cfdb-dbb7-44ff-b84a-ac2333fbae1a",
   "metadata": {},
   "source": [
    "# 📌 Handling Missing Values Guide\n",
    "\n",
    "| **Data Type** | **Missing Percentage** | **Best Handling Method** | **When to Use This Method?** |\n",
    "|--------------|-----------------|----------------------|------------------|\n",
    "| **🔹 Numerical Data (`int64`, `float64`)** | **Less than 5%**  | `mean()` or `median()` | If the impact is minimal |\n",
    "| | **5% - 30%** | `median()` if outliers exist, `mean()` if normally distributed | When the missing percentage is moderate |\n",
    "| | **More than 30%** | `median()` if the column is important; otherwise, drop it | If the remaining values are sufficient |\n",
    "| | **More than 50%** | Drop the column | When the remaining values are too few |\n",
    "| **🔹 Categorical Data (`object`)** | **Less than 5%**  | `mode()` (most frequent value) | If the impact is minimal |\n",
    "| | **5% - 30%** | `mode()` or `ffill()` / `bfill()` | If the data has a logical sequence |\n",
    "| | **More than 30%** | `mode()` if the column is important; otherwise, drop it | If the remaining values are sufficient |\n",
    "| | **More than 50%** | Drop the column | If the missing data is too significant |\n",
    "| **🔹 Date/Time Data (`datetime64`)** | **Less than 5%**  | `ffill()` or `bfill()` | If there is a chronological order |\n",
    "| | **5% - 30%** | `interpolate()` or `bfill()` | If time continuity is important |\n",
    "| | **More than 30%** | `interpolate()` or drop missing rows | If sufficient data remains |\n",
    "| | **More than 50%** | Drop the column or remove missing data | If the data is no longer meaningful |\n",
    "| **🔹 Categorical (Ordinal) Data** | **Less than 5%**  | `mode()` | If categories are stable |\n",
    "| | **5% - 30%** | `mode()` or `ffill()` | If the category can be inferred |\n",
    "| | **More than 30%** | `mode()` if the column is important; otherwise, drop it | If the remaining values are sufficient |\n",
    "| | **More than 50%** | Drop the column | If too much data is lost |\n"
   ]
  },
  {
   "cell_type": "code",
   "execution_count": 202,
   "id": "ba0a18bb-26a2-4c23-80cf-f96ad8d588ad",
   "metadata": {},
   "outputs": [
    {
     "name": "stderr",
     "output_type": "stream",
     "text": [
      "C:\\Users\\msi\\AppData\\Local\\Temp\\ipykernel_8152\\2041762407.py:1: FutureWarning: A value is trying to be set on a copy of a DataFrame or Series through chained assignment using an inplace method.\n",
      "The behavior will change in pandas 3.0. This inplace method will never work because the intermediate object on which we are setting values always behaves as a copy.\n",
      "\n",
      "For example, when doing 'df[col].method(value, inplace=True)', try using 'df.method({col: value}, inplace=True)' or df[col] = df[col].method(value) instead, to perform the operation inplace on the original object.\n",
      "\n",
      "\n",
      "  df['city_development_index'].fillna(df['city_development_index'].mean() , inplace=True)\n",
      "C:\\Users\\msi\\AppData\\Local\\Temp\\ipykernel_8152\\2041762407.py:2: FutureWarning: A value is trying to be set on a copy of a DataFrame or Series through chained assignment using an inplace method.\n",
      "The behavior will change in pandas 3.0. This inplace method will never work because the intermediate object on which we are setting values always behaves as a copy.\n",
      "\n",
      "For example, when doing 'df[col].method(value, inplace=True)', try using 'df.method({col: value}, inplace=True)' or df[col] = df[col].method(value) instead, to perform the operation inplace on the original object.\n",
      "\n",
      "\n",
      "  df['experience'].fillna(df['experience'].mean() , inplace = True)\n",
      "C:\\Users\\msi\\AppData\\Local\\Temp\\ipykernel_8152\\2041762407.py:3: FutureWarning: A value is trying to be set on a copy of a DataFrame or Series through chained assignment using an inplace method.\n",
      "The behavior will change in pandas 3.0. This inplace method will never work because the intermediate object on which we are setting values always behaves as a copy.\n",
      "\n",
      "For example, when doing 'df[col].method(value, inplace=True)', try using 'df.method({col: value}, inplace=True)' or df[col] = df[col].method(value) instead, to perform the operation inplace on the original object.\n",
      "\n",
      "\n",
      "  df['training_hours'].fillna(df['training_hours'].mean() , inplace=True)\n"
     ]
    }
   ],
   "source": [
    "df['city_development_index'].fillna(df['city_development_index'].mean() , inplace=True)\n",
    "df['experience'].fillna(df['experience'].mean() , inplace = True)\n",
    "df['training_hours'].fillna(df['training_hours'].mean() , inplace=True)"
   ]
  },
  {
   "cell_type": "code",
   "execution_count": 204,
   "id": "5bba286e-b431-4fdd-bb92-0387ae66195a",
   "metadata": {},
   "outputs": [],
   "source": [
    "categorical_cols = ['gender', 'enrolled_university', 'education_level', 'major_discipline', 'company_size', 'company_type']\n",
    "\n",
    "for col in categorical_cols:\n",
    "    df[col].fillna(df[col].mode()[0] , inplace = True)"
   ]
  },
  {
   "cell_type": "markdown",
   "id": "bf60b385-93d3-4411-9c78-003b7fa5519d",
   "metadata": {},
   "source": [
    "### Check for missing values"
   ]
  },
  {
   "cell_type": "code",
   "execution_count": 205,
   "id": "824f4113-8015-4be0-8f00-ff57e27c76cf",
   "metadata": {},
   "outputs": [
    {
     "name": "stdout",
     "output_type": "stream",
     "text": [
      "enrollee_id               0\n",
      "city                      0\n",
      "city_development_index    0\n",
      "gender                    0\n",
      "relevent_experience       0\n",
      "enrolled_university       0\n",
      "education_level           0\n",
      "major_discipline          0\n",
      "experience                0\n",
      "company_size              0\n",
      "company_type              0\n",
      "training_hours            0\n",
      "target                    0\n",
      "dtype: int64\n"
     ]
    }
   ],
   "source": [
    "print(df.isnull().sum())"
   ]
  },
  {
   "cell_type": "markdown",
   "id": "b76e26d5-8a6c-45d4-a844-b4363b0e8c44",
   "metadata": {},
   "source": [
    "### We save the new cleaned data"
   ]
  },
  {
   "cell_type": "code",
   "execution_count": 206,
   "id": "e99d28dc-acb1-4417-9fa8-caa55b99b578",
   "metadata": {},
   "outputs": [],
   "source": [
    "df.to_csv('cleaned_data.csv', index=False)"
   ]
  },
  {
   "cell_type": "markdown",
   "id": "070cfe2a-dbc6-45fc-baab-8e084ddf2595",
   "metadata": {},
   "source": [
    "### Step 6"
   ]
  },
  {
   "cell_type": "markdown",
   "id": "c3f4c6d1-0947-444c-aac2-53d65a62e3f2",
   "metadata": {},
   "source": [
    "### Modifying & Transforming Data in Pandas"
   ]
  },
  {
   "cell_type": "code",
   "execution_count": 44,
   "id": "f44dcda8-2b46-4f1e-aec4-84dc4580e32c",
   "metadata": {},
   "outputs": [
    {
     "name": "stdout",
     "output_type": "stream",
     "text": [
      "     name  age     city\n",
      "0  nasser   24    najaf\n",
      "1   ahmed   28  karblaa\n",
      "2   hamed   35  baghdad\n"
     ]
    }
   ],
   "source": [
    "data = {\n",
    "    'name' : ['nasser', 'ahmed' , 'hamed'],\n",
    "    'age'  : [ 24 , 28 , 35 ],\n",
    "    'city' : [ 'najaf' , 'karblaa' , 'baghdad']\n",
    "}\n",
    "\n",
    "data = pd.DataFrame(data)\n",
    "\n",
    "print(data.head())"
   ]
  },
  {
   "cell_type": "markdown",
   "id": "95dc0332-8f3a-4ab7-9e44-79755e34b0b1",
   "metadata": {},
   "source": [
    "### Adding a New Column (df['NewCol'] = value)"
   ]
  },
  {
   "cell_type": "markdown",
   "id": "519951c5-8717-4d41-b9f8-f3c20ffeb549",
   "metadata": {},
   "source": [
    "Adding a Column with Fixed Values\n"
   ]
  },
  {
   "cell_type": "code",
   "execution_count": 45,
   "id": "c06cad0c-930b-4b5b-a202-c79fd44a9569",
   "metadata": {},
   "outputs": [
    {
     "name": "stdout",
     "output_type": "stream",
     "text": [
      "     name  age     city Countery\n",
      "0  nasser   24    najaf     Iraq\n",
      "1   ahmed   28  karblaa     Iraq\n",
      "2   hamed   35  baghdad     Iraq\n"
     ]
    }
   ],
   "source": [
    "data['Countery'] = 'Iraq'\n",
    "\n",
    "print(data.head())"
   ]
  },
  {
   "cell_type": "markdown",
   "id": "bfd1484a-395c-4eb2-9a91-8d30ed7e6755",
   "metadata": {},
   "source": [
    "Adding a Column with Calculated Values"
   ]
  },
  {
   "cell_type": "code",
   "execution_count": 46,
   "id": "f2e6d511-c375-404e-a009-34818d8e87fa",
   "metadata": {},
   "outputs": [
    {
     "name": "stdout",
     "output_type": "stream",
     "text": [
      "     name  age     city Countery  age after 5 years\n",
      "0  nasser   24    najaf     Iraq                 29\n",
      "1   ahmed   28  karblaa     Iraq                 33\n",
      "2   hamed   35  baghdad     Iraq                 40\n"
     ]
    }
   ],
   "source": [
    "data['age after 5 years'] = data['age'] + 5\n",
    "print(data.head())"
   ]
  },
  {
   "cell_type": "markdown",
   "id": "8cef36a5-2241-4f27-858c-9c87d843b577",
   "metadata": {},
   "source": [
    "Adding a Column Using a Function (apply())"
   ]
  },
  {
   "cell_type": "code",
   "execution_count": 47,
   "id": "a80facce-2cf1-4e05-9965-7b7bee0e145a",
   "metadata": {},
   "outputs": [
    {
     "name": "stdout",
     "output_type": "stream",
     "text": [
      "     name  age     city Countery  age after 5 years age group\n",
      "0  nasser   24    najaf     Iraq                 29     young\n",
      "1   ahmed   28  karblaa     Iraq                 33     young\n",
      "2   hamed   35  baghdad     Iraq                 40     adult\n"
     ]
    }
   ],
   "source": [
    "data['age group'] = data['age'].apply(lambda x : 'young' if x < 30 else 'adult')\n",
    "print(data.head())"
   ]
  },
  {
   "cell_type": "markdown",
   "id": "43f2baf4-89b0-417e-809d-959ce5a402ce",
   "metadata": {},
   "source": [
    "### Updating Column Values (df['ColumnName'] = new_values)"
   ]
  },
  {
   "cell_type": "markdown",
   "id": "bfb62e4a-9545-4e50-8a3b-01f985166880",
   "metadata": {},
   "source": [
    "Updating a Column's Values"
   ]
  },
  {
   "cell_type": "code",
   "execution_count": 48,
   "id": "1fc28bb0-855e-46d3-8848-9b98d583bde8",
   "metadata": {},
   "outputs": [
    {
     "name": "stdout",
     "output_type": "stream",
     "text": [
      "     name  age     city Countery  age after 5 years age group\n",
      "0  nasser   25    najaf     Iraq                 29     young\n",
      "1   ahmed   29  karblaa     Iraq                 33     young\n",
      "2   hamed   36  baghdad     Iraq                 40     adult\n"
     ]
    }
   ],
   "source": [
    "data['age'] = data['age'] + 1\n",
    "print(data.head())"
   ]
  },
  {
   "cell_type": "markdown",
   "id": "489a2b8b-cdc2-4349-b950-bc49f7edd675",
   "metadata": {},
   "source": [
    "Updating Specific Rows"
   ]
  },
  {
   "cell_type": "code",
   "execution_count": 49,
   "id": "beef9b64-0e35-4f4e-9cfe-e2f9bb6e9ad0",
   "metadata": {},
   "outputs": [
    {
     "name": "stdout",
     "output_type": "stream",
     "text": [
      "     name  age     city Countery  age after 5 years age group\n",
      "0  nasser   25    najaf     Iraq                 29     young\n",
      "1   ahmed   29  karblaa     Iraq                 33     young\n",
      "2   hamed   45  baghdad     Iraq                 40     adult\n"
     ]
    }
   ],
   "source": [
    "data.loc[data['name'] == 'hamed' , 'age' ] = 45 \n",
    "print(data.head())"
   ]
  },
  {
   "cell_type": "code",
   "execution_count": 50,
   "id": "e9111df4-43af-427f-a5f6-45da6c7b2603",
   "metadata": {},
   "outputs": [
    {
     "name": "stdout",
     "output_type": "stream",
     "text": [
      "     name  age     city Countery  age after 5 years age group\n",
      "0  nasser   25    najaf     Iraq                 34     young\n",
      "1   ahmed   29  karblaa     Iraq                 38     young\n",
      "2   hamed   45  baghdad     Iraq                 45     adult\n"
     ]
    }
   ],
   "source": [
    "data[['age after 5 years']] = data[['age after 5 years']] + 5\n",
    "\n",
    "print(data.head())"
   ]
  },
  {
   "cell_type": "markdown",
   "id": "29d23074-2ff7-4581-86c7-7b1f536ac3d1",
   "metadata": {},
   "source": [
    "### Dropping Columns (df.drop(columns=['ColName']))"
   ]
  },
  {
   "cell_type": "markdown",
   "id": "ab6b023b-8352-41b1-a889-577994d2819b",
   "metadata": {},
   "source": [
    "Dropping a Single Column"
   ]
  },
  {
   "cell_type": "code",
   "execution_count": 51,
   "id": "cc528444-7641-4519-a65f-9271ca2ac25e",
   "metadata": {},
   "outputs": [
    {
     "name": "stdout",
     "output_type": "stream",
     "text": [
      "     name  age     city Countery age group\n",
      "0  nasser   25    najaf     Iraq     young\n",
      "1   ahmed   29  karblaa     Iraq     young\n",
      "2   hamed   45  baghdad     Iraq     adult\n"
     ]
    }
   ],
   "source": [
    "data = data.drop(columns=['age after 5 years'])\n",
    "print(data.head())"
   ]
  },
  {
   "cell_type": "markdown",
   "id": "51cff26f-20ed-4c79-8a1a-4b771989b8dd",
   "metadata": {},
   "source": [
    "Dropping Multiple Columns"
   ]
  },
  {
   "cell_type": "code",
   "execution_count": 52,
   "id": "19f0518b-384f-433c-b62a-110ed22e5945",
   "metadata": {},
   "outputs": [
    {
     "name": "stdout",
     "output_type": "stream",
     "text": [
      "     name  age     city\n",
      "0  nasser   25    najaf\n",
      "1   ahmed   29  karblaa\n",
      "2   hamed   45  baghdad\n"
     ]
    }
   ],
   "source": [
    "data = data.drop(columns=['age group' , 'Countery'])\n",
    "print(data.head())"
   ]
  },
  {
   "cell_type": "markdown",
   "id": "97d938a9-d766-40d5-9782-10a895865853",
   "metadata": {},
   "source": [
    "### Dropping Rows (df.drop(index=value))"
   ]
  },
  {
   "cell_type": "markdown",
   "id": "a71616f8-828a-47be-b608-2febba81de77",
   "metadata": {},
   "source": [
    "Dropping a Specific Row"
   ]
  },
  {
   "cell_type": "code",
   "execution_count": 53,
   "id": "5b31613d-1483-4eb7-a72e-af7e5f8aa7c7",
   "metadata": {},
   "outputs": [
    {
     "name": "stdout",
     "output_type": "stream",
     "text": [
      "     name  age     city\n",
      "0  nasser   25    najaf\n",
      "2   hamed   45  baghdad\n"
     ]
    }
   ],
   "source": [
    "data = data.drop(index=1)\n",
    "print(data.head())"
   ]
  },
  {
   "cell_type": "markdown",
   "id": "39a2dc2f-e6af-4f7a-a1df-c27aa8800979",
   "metadata": {},
   "source": [
    "Dropping Multiple Rows"
   ]
  },
  {
   "cell_type": "code",
   "execution_count": 54,
   "id": "77707087-cd3d-445e-bba9-13c66af590e2",
   "metadata": {},
   "outputs": [
    {
     "data": {
      "text/plain": [
       "'\\ndata = data.drop(index=[0, 2])\\nprint(data.head())\\n'"
      ]
     },
     "execution_count": 54,
     "metadata": {},
     "output_type": "execute_result"
    }
   ],
   "source": [
    "'''\n",
    "data = data.drop(index=[0, 2])\n",
    "print(data.head())\n",
    "'''"
   ]
  },
  {
   "cell_type": "markdown",
   "id": "dcd980a3-9ec5-4e62-b23c-0359be9a4c1e",
   "metadata": {},
   "source": [
    "Dropping Rows Based on a Condition"
   ]
  },
  {
   "cell_type": "code",
   "execution_count": 55,
   "id": "3b5373b6-bbb6-44e3-a061-249691739c0e",
   "metadata": {},
   "outputs": [
    {
     "name": "stdout",
     "output_type": "stream",
     "text": [
      "    name  age     city\n",
      "2  hamed   45  baghdad\n"
     ]
    }
   ],
   "source": [
    "data = data[data['age'] > 25 ]\n",
    "print(data.head())"
   ]
  },
  {
   "cell_type": "markdown",
   "id": "861bbcd9-8eaa-4ad4-a9b5-ae59cfb7f09a",
   "metadata": {},
   "source": [
    "### Changing Column Names (df.rename())"
   ]
  },
  {
   "cell_type": "markdown",
   "id": "cb02df49-9ed6-4e4d-8120-0de330e13c9f",
   "metadata": {},
   "source": [
    "Renaming Specific Columns"
   ]
  },
  {
   "cell_type": "code",
   "execution_count": 58,
   "id": "8a554ec8-25c7-4479-bef8-f5759c5a931d",
   "metadata": {},
   "outputs": [
    {
     "name": "stdout",
     "output_type": "stream",
     "text": [
      "  Full Name  Age     City\n",
      "2     hamed   45  baghdad\n"
     ]
    }
   ],
   "source": [
    "data = data.rename(columns={\n",
    "    'name' : 'Full Name',\n",
    "    'age'  : 'Age',\n",
    "})\n",
    "\n",
    "print(data.head())"
   ]
  },
  {
   "cell_type": "markdown",
   "id": "f0cf9385-cd07-4499-9a63-6a393897445d",
   "metadata": {},
   "source": [
    "Renaming All Columns"
   ]
  },
  {
   "cell_type": "code",
   "execution_count": 60,
   "id": "584e1f32-ce66-487d-be89-447aac06c456",
   "metadata": {},
   "outputs": [
    {
     "name": "stdout",
     "output_type": "stream",
     "text": [
      "  Coustmer_Name  Coustmer_Age Coustmer_City\n",
      "2         hamed            45       baghdad\n"
     ]
    }
   ],
   "source": [
    "data.columns = ['Coustmer_Name','Coustmer_Age','Coustmer_City']\n",
    "print(data.head())"
   ]
  },
  {
   "cell_type": "markdown",
   "id": "1e64a154-0206-4a1f-94c0-64cdbdda7e71",
   "metadata": {},
   "source": [
    "### Step 7"
   ]
  },
  {
   "cell_type": "markdown",
   "id": "f436abfa-38c7-4d70-8375-718d4e0c989f",
   "metadata": {},
   "source": [
    "### Merging, Joining, and Concatenation in Pandas"
   ]
  },
  {
   "cell_type": "markdown",
   "id": "1cf1719e-cb76-4f22-b914-984a9039e039",
   "metadata": {},
   "source": [
    "### Concatenation (pd.concat())"
   ]
  },
  {
   "cell_type": "markdown",
   "id": "438dfa99-1f42-466e-9e7d-db67d8e818b2",
   "metadata": {},
   "source": [
    "Vertical Concatenation (Adding Rows)"
   ]
  },
  {
   "cell_type": "code",
   "execution_count": 62,
   "id": "42a1d83a-9c30-4fed-a08d-b5453fddf4a9",
   "metadata": {},
   "outputs": [
    {
     "name": "stdout",
     "output_type": "stream",
     "text": [
      "   A  B\n",
      "0  1  3\n",
      "1  2  4\n",
      "2  5  7\n",
      "3  6  8\n"
     ]
    }
   ],
   "source": [
    "df1 = pd.DataFrame({'A' : [1 , 2] , 'B' : [3 , 4]})\n",
    "df2 = pd.DataFrame({'A' : [5 , 6] , 'B' : [7 , 8]})\n",
    "\n",
    "df_concat_row = pd.concat([df1 , df2] , ignore_index=True)\n",
    "\n",
    "print(df_concat_row)"
   ]
  },
  {
   "cell_type": "markdown",
   "id": "1621b36f-1e86-438a-a02c-f8ab4d7c09cd",
   "metadata": {},
   "source": [
    "Horizontal Concatenation (Adding Columns)"
   ]
  },
  {
   "cell_type": "code",
   "execution_count": 63,
   "id": "a42f1cec-64e6-464d-99a0-b6877a1165b4",
   "metadata": {},
   "outputs": [
    {
     "name": "stdout",
     "output_type": "stream",
     "text": [
      "   A  B  A  B\n",
      "0  1  3  5  7\n",
      "1  2  4  6  8\n"
     ]
    }
   ],
   "source": [
    "df_concat_col = pd.concat([df1 , df2] , axis=1)\n",
    "print(df_concat_col)"
   ]
  },
  {
   "cell_type": "markdown",
   "id": "6722810b-5bba-4dca-bcb8-91b357ae855c",
   "metadata": {},
   "source": [
    "### Merging DataFrames (pd.merge())"
   ]
  },
  {
   "cell_type": "markdown",
   "id": "26812f18-e0d5-43ed-af2d-125bbf820d9f",
   "metadata": {},
   "source": [
    "Inner Join (Default) , \n",
    "Returns only matching records"
   ]
  },
  {
   "cell_type": "code",
   "execution_count": 69,
   "id": "16a61c3d-9f3e-45d8-9991-ab61ef8a775e",
   "metadata": {},
   "outputs": [
    {
     "name": "stdout",
     "output_type": "stream",
     "text": [
      "   ID     Name  Salary\n",
      "0   2      Bob   60000\n",
      "1   3  Charlie   70000\n"
     ]
    }
   ],
   "source": [
    "df1 = pd.DataFrame({'ID': [1, 2, 3], 'Name': ['Alice', 'Bob', 'Charlie']})\n",
    "df2 = pd.DataFrame({'ID': [2, 3, 4], 'Salary': [60000, 70000, 80000]})\n",
    "\n",
    "df_inner = pd.merge(df1, df2, on='ID', how='inner')\n",
    "print(df_inner)"
   ]
  },
  {
   "cell_type": "markdown",
   "id": "7ac97c8c-fb01-42ef-9a6b-a9a0230e824c",
   "metadata": {},
   "source": [
    "Left Join (Keeps All Left Table Rows)"
   ]
  },
  {
   "cell_type": "code",
   "execution_count": 71,
   "id": "fa78a2e0-c93e-4239-8c12-e90be613bc26",
   "metadata": {},
   "outputs": [
    {
     "name": "stdout",
     "output_type": "stream",
     "text": [
      "   ID     Name   Salary\n",
      "0   1    Alice      NaN\n",
      "1   2      Bob  60000.0\n",
      "2   3  Charlie  70000.0\n"
     ]
    }
   ],
   "source": [
    "df_left = pd.merge(df1 ,df2 , on = 'ID' , how = 'left')\n",
    "print(df_left)"
   ]
  },
  {
   "cell_type": "markdown",
   "id": "bcb38c09-84fd-4113-bb86-c0804190175e",
   "metadata": {},
   "source": [
    "Right Join (Keeps All Right Table Rows)"
   ]
  },
  {
   "cell_type": "code",
   "execution_count": 73,
   "id": "ae68b56b-cb4a-4e7c-bb48-44d3dfcbbbc5",
   "metadata": {},
   "outputs": [
    {
     "name": "stdout",
     "output_type": "stream",
     "text": [
      "   ID     Name  Salary\n",
      "0   2      Bob   60000\n",
      "1   3  Charlie   70000\n",
      "2   4      NaN   80000\n"
     ]
    }
   ],
   "source": [
    "df_right = pd.merge(df1 , df2 , on = 'ID' , how = 'right')\n",
    "print(df_right)"
   ]
  },
  {
   "cell_type": "markdown",
   "id": "99ab03d3-3730-4dc9-a754-1eb696d40427",
   "metadata": {},
   "source": [
    "Right Join (Keeps All Right Table Rows)"
   ]
  },
  {
   "cell_type": "code",
   "execution_count": 74,
   "id": "5c03415d-d5ae-43b2-be5d-7f6d137c8e66",
   "metadata": {},
   "outputs": [
    {
     "name": "stdout",
     "output_type": "stream",
     "text": [
      "   ID     Name   Salary\n",
      "0   1    Alice      NaN\n",
      "1   2      Bob  60000.0\n",
      "2   3  Charlie  70000.0\n",
      "3   4      NaN  80000.0\n"
     ]
    }
   ],
   "source": [
    "df_outer = pd.merge(df1 , df2 , on = 'ID' , how = 'outer')\n",
    "print(df_outer)"
   ]
  },
  {
   "cell_type": "markdown",
   "id": "2f761f32-aa66-4a1d-92b9-80522c6ce821",
   "metadata": {},
   "source": [
    "### Joining DataFrames (df.join())"
   ]
  },
  {
   "cell_type": "markdown",
   "id": "bda6434f-dc86-40bd-a18f-443b5eb663a1",
   "metadata": {},
   "source": [
    "Default Join (Left Join)"
   ]
  },
  {
   "cell_type": "code",
   "execution_count": 75,
   "id": "75aafa17-67a6-4b3a-a883-d0b6027b240b",
   "metadata": {},
   "outputs": [
    {
     "name": "stdout",
     "output_type": "stream",
     "text": [
      "      Name   Salary\n",
      "1    Alice      NaN\n",
      "2      Bob  60000.0\n",
      "3  Charlie  70000.0\n"
     ]
    }
   ],
   "source": [
    "df1 = pd.DataFrame({'Name': ['Alice', 'Bob', 'Charlie']}, index=[1, 2, 3])\n",
    "df2 = pd.DataFrame({'Salary': [60000, 70000, 80000]}, index=[2, 3, 4])\n",
    "\n",
    "df_join = df1.join(df2)\n",
    "print(df_join)"
   ]
  },
  {
   "cell_type": "markdown",
   "id": "0bace510-fbaf-4730-a5ed-ae25f59b5856",
   "metadata": {},
   "source": [
    "inner Join with .join() , Only matching indexes are kept"
   ]
  },
  {
   "cell_type": "code",
   "execution_count": 77,
   "id": "27dc87e0-0610-4f53-a1ce-5b4431d0cfdc",
   "metadata": {},
   "outputs": [
    {
     "name": "stdout",
     "output_type": "stream",
     "text": [
      "      Name  Salary\n",
      "2      Bob   60000\n",
      "3  Charlie   70000\n"
     ]
    }
   ],
   "source": [
    "df_inner = df1.join(df2 , how = 'inner')\n",
    "print(df_inner)"
   ]
  },
  {
   "cell_type": "markdown",
   "id": "01bc9825-454c-4cdd-8fe9-a5f2760d2db7",
   "metadata": {},
   "source": [
    "### Step 8"
   ]
  },
  {
   "cell_type": "markdown",
   "id": "7195739a-b7e1-4d03-a287-e9941ee7e590",
   "metadata": {},
   "source": [
    "### Grouping & Aggregations in Pandas"
   ]
  },
  {
   "cell_type": "markdown",
   "id": "b5d1bfda-48ec-4cb6-bf98-18429241f4c7",
   "metadata": {},
   "source": [
    "### Grouping Data (df.groupby())"
   ]
  },
  {
   "cell_type": "markdown",
   "id": "7ac67a2c-4765-40be-a6b5-e9a12b04fbc8",
   "metadata": {},
   "source": [
    "Grouping and Applying a Single Aggregation"
   ]
  },
  {
   "cell_type": "code",
   "execution_count": 78,
   "id": "6f108442-20e7-4258-a79d-b0fe6b4e003f",
   "metadata": {},
   "outputs": [
    {
     "name": "stdout",
     "output_type": "stream",
     "text": [
      "Department\n",
      "Finance    72500.000000\n",
      "HR         52333.333333\n",
      "IT         70000.000000\n",
      "Name: Salary, dtype: float64\n"
     ]
    }
   ],
   "source": [
    "data = {\n",
    "    'Department': ['HR', 'IT', 'HR', 'Finance', 'IT', 'Finance', 'HR'],\n",
    "    'Employee': ['Alice', 'Bob', 'Charlie', 'David', 'Eve', 'Frank', 'Grace'],\n",
    "    'Salary': [50000, 60000, 52000, 70000, 80000, 75000, 55000]\n",
    "}\n",
    "\n",
    "df = pd.DataFrame(data)\n",
    "\n",
    "df_grouped = df.groupby('Department')['Salary'].mean()\n",
    "\n",
    "print(df_grouped)"
   ]
  },
  {
   "cell_type": "markdown",
   "id": "237bd587-f790-411d-aa0d-bd7c73da0f0c",
   "metadata": {},
   "source": [
    "Grouping and Applying Multiple Aggregations , You can apply multiple aggregations (sum, mean, max, min, count, etc.):"
   ]
  },
  {
   "cell_type": "code",
   "execution_count": 79,
   "id": "c2b5d043-f8c2-4fcf-b650-27a031726e81",
   "metadata": {},
   "outputs": [
    {
     "name": "stdout",
     "output_type": "stream",
     "text": [
      "                    mean    max    min     sum  count\n",
      "Department                                           \n",
      "Finance     72500.000000  75000  70000  145000      2\n",
      "HR          52333.333333  55000  50000  157000      3\n",
      "IT          70000.000000  80000  60000  140000      2\n"
     ]
    }
   ],
   "source": [
    "df_grouped = df.groupby('Department')['Salary'].agg(['mean', 'max', 'min', 'sum', 'count'])\n",
    "print(df_grouped)"
   ]
  },
  {
   "cell_type": "markdown",
   "id": "db8a0bbc-cd8a-45a1-a9f1-35f953ce1c7b",
   "metadata": {},
   "source": [
    "### Aggregations (df.agg())"
   ]
  },
  {
   "cell_type": "markdown",
   "id": "c04fb8f6-4e8d-4b76-b68d-dda811259dc7",
   "metadata": {},
   "source": [
    "Single Aggregation on a Column"
   ]
  },
  {
   "cell_type": "code",
   "execution_count": 81,
   "id": "329b0b91-1a0e-470e-ba7d-f26bdb5e3640",
   "metadata": {},
   "outputs": [
    {
     "name": "stdout",
     "output_type": "stream",
     "text": [
      "63142.857142857145\n"
     ]
    }
   ],
   "source": [
    "print(df['Salary'].agg('mean'))"
   ]
  },
  {
   "cell_type": "markdown",
   "id": "a33ad718-af8d-4937-9159-8e13d2d63cca",
   "metadata": {},
   "source": [
    "Multiple Aggregations"
   ]
  },
  {
   "cell_type": "code",
   "execution_count": 82,
   "id": "d97a509e-4935-4d9c-8fb3-269735479b33",
   "metadata": {},
   "outputs": [
    {
     "name": "stdout",
     "output_type": "stream",
     "text": [
      "mean     63142.857143\n",
      "sum     442000.000000\n",
      "max      80000.000000\n",
      "min      50000.000000\n",
      "Name: Salary, dtype: float64\n"
     ]
    }
   ],
   "source": [
    "print(df['Salary'].agg(['mean', 'sum', 'max', 'min']))"
   ]
  },
  {
   "cell_type": "markdown",
   "id": "1755d4cb-677e-47c5-890b-aff96dad4360",
   "metadata": {},
   "source": [
    "### Multi-aggregation (df.groupby().agg() with dictionary)"
   ]
  },
  {
   "cell_type": "code",
   "execution_count": 83,
   "id": "61e84e7e-f840-4bbc-a4ab-43690863872a",
   "metadata": {},
   "outputs": [
    {
     "name": "stdout",
     "output_type": "stream",
     "text": [
      "                  Salary               Employee\n",
      "                    mean    max    min    count\n",
      "Department                                     \n",
      "Finance     72500.000000  75000  70000        2\n",
      "HR          52333.333333  55000  50000        3\n",
      "IT          70000.000000  80000  60000        2\n"
     ]
    }
   ],
   "source": [
    "df_grouped = df.groupby('Department').agg({\n",
    "    'Salary': ['mean', 'max', 'min'],\n",
    "    'Employee': 'count'\n",
    "})\n",
    "print(df_grouped)"
   ]
  },
  {
   "cell_type": "markdown",
   "id": "e2fcbe59-c575-4114-aad9-ca3c41429ae2",
   "metadata": {},
   "source": [
    "### Step 9"
   ]
  },
  {
   "cell_type": "markdown",
   "id": "92c11a73-721c-4645-b1d0-251c103779d4",
   "metadata": {},
   "source": [
    "### Creating a Pivot Table (df.pivot_table())"
   ]
  },
  {
   "cell_type": "markdown",
   "id": "71385043-5f6c-4dd0-a6dd-d0a6eb427c4b",
   "metadata": {},
   "source": [
    "### Basic Pivot Table"
   ]
  },
  {
   "cell_type": "code",
   "execution_count": 93,
   "id": "0d1710c6-e313-404e-96e9-6f0fcf01ec93",
   "metadata": {},
   "outputs": [
    {
     "name": "stdout",
     "output_type": "stream",
     "text": [
      "                  Salary\n",
      "Department              \n",
      "Finance     72500.000000\n",
      "HR          52333.333333\n",
      "IT          70000.000000\n"
     ]
    }
   ],
   "source": [
    "data = {\n",
    "    'Department': ['HR', 'IT', 'HR', 'Finance', 'IT', 'Finance', 'HR'],\n",
    "    'Gender': ['Female', 'Male', 'Male', 'Male', 'Female', 'Male', 'Female'],\n",
    "    'Salary': [50000, 60000, 52000, 70000, 80000, 75000, 55000]\n",
    "}\n",
    "\n",
    "df = pd.DataFrame(data)\n",
    "\n",
    "pivot_table = df.pivot_table(values = 'Salary' , index = 'Department' , aggfunc = 'mean')\n",
    "\n",
    "print(pivot_table)"
   ]
  },
  {
   "cell_type": "markdown",
   "id": "a73697a5-9c5e-4ac4-a661-4c59b847e397",
   "metadata": {},
   "source": [
    "##### values → Column to aggregate \n",
    "##### index → Rows (group by this column) \n",
    "##### aggfunc → Aggregation function (e.g., mean, sum, count)"
   ]
  },
  {
   "cell_type": "markdown",
   "id": "a3791f1c-3d6b-4705-88f2-65c8aa1f42f0",
   "metadata": {},
   "source": [
    "### Pivot Table with Multiple Aggregations"
   ]
  },
  {
   "cell_type": "code",
   "execution_count": 96,
   "id": "052569d5-e36c-453a-add8-1e405e0ea611",
   "metadata": {},
   "outputs": [
    {
     "name": "stdout",
     "output_type": "stream",
     "text": [
      "                    mean     sum    max    min\n",
      "                  Salary  Salary Salary Salary\n",
      "Department                                    \n",
      "Finance     72500.000000  145000  75000  70000\n",
      "HR          52333.333333  157000  55000  50000\n",
      "IT          70000.000000  140000  80000  60000\n"
     ]
    }
   ],
   "source": [
    "pivot_table = df.pivot_table(values = 'Salary' , index = 'Department' , aggfunc = ['mean','sum','max','min'])\n",
    "print(pivot_table)"
   ]
  },
  {
   "cell_type": "markdown",
   "id": "cdc8aead-5507-4d75-bdce-e2e033826ff5",
   "metadata": {},
   "source": [
    "### Pivot Table with Multiple Indexes and Columns"
   ]
  },
  {
   "cell_type": "code",
   "execution_count": 100,
   "id": "79800ddf-a1cd-42f1-8e15-792467383d27",
   "metadata": {},
   "outputs": [
    {
     "name": "stdout",
     "output_type": "stream",
     "text": [
      "                    Salary\n",
      "Department Gender         \n",
      "Finance    Male    72500.0\n",
      "HR         Female  52500.0\n",
      "           Male    52000.0\n",
      "IT         Female  80000.0\n",
      "           Male    60000.0\n"
     ]
    }
   ],
   "source": [
    "pivot_table = df.pivot_table(values = 'Salary' , index = ['Department' , 'Gender'] , aggfunc = 'mean')\n",
    "print(pivot_table)"
   ]
  },
  {
   "cell_type": "markdown",
   "id": "ae6f8ae8-3ff4-4bea-bee6-df706a5a76c4",
   "metadata": {},
   "source": [
    "### Pivot Table with Columns and Custom Aggregation"
   ]
  },
  {
   "cell_type": "code",
   "execution_count": 104,
   "id": "ca7c11d4-ec9a-494b-b9f0-0dac3002ac8c",
   "metadata": {},
   "outputs": [
    {
     "name": "stdout",
     "output_type": "stream",
     "text": [
      "Gender       Female     Male\n",
      "Department                  \n",
      "Finance         NaN  72500.0\n",
      "HR          52500.0  52000.0\n",
      "IT          80000.0  60000.0\n"
     ]
    }
   ],
   "source": [
    "pivot_table = df.pivot_table(values = 'Salary' , index = 'Department' , columns = 'Gender' , aggfunc = 'mean')\n",
    "print(pivot_table)"
   ]
  },
  {
   "cell_type": "markdown",
   "id": "d92a56fb-649c-4d87-a566-92db21d5bcd9",
   "metadata": {},
   "source": [
    "### Crosstab for Frequency (pd.crosstab())"
   ]
  },
  {
   "cell_type": "markdown",
   "id": "588b51aa-329e-4e01-84a4-f10f0d1f5a09",
   "metadata": {},
   "source": [
    "Frequency Count"
   ]
  },
  {
   "cell_type": "code",
   "execution_count": 106,
   "id": "2529b049-765d-4ab5-aa4a-a0d206dffb12",
   "metadata": {},
   "outputs": [
    {
     "name": "stdout",
     "output_type": "stream",
     "text": [
      "Gender      Female  Male\n",
      "Department              \n",
      "Finance          0     2\n",
      "HR               2     1\n",
      "IT               1     1\n"
     ]
    }
   ],
   "source": [
    "crosstab = pd.crosstab(df['Department'] , df['Gender'])\n",
    "print(crosstab)"
   ]
  },
  {
   "cell_type": "markdown",
   "id": "de12656a-5b9f-4de5-bd26-32321c959a1d",
   "metadata": {},
   "source": [
    "Percentage Frequency"
   ]
  },
  {
   "cell_type": "code",
   "execution_count": 108,
   "id": "e7d4087e-b398-4780-866c-4970d1007de2",
   "metadata": {},
   "outputs": [
    {
     "name": "stdout",
     "output_type": "stream",
     "text": [
      "Gender         Female        Male\n",
      "Department                       \n",
      "Finance      0.000000  100.000000\n",
      "HR          66.666667   33.333333\n",
      "IT          50.000000   50.000000\n"
     ]
    }
   ],
   "source": [
    "crosstab_percent = pd.crosstab(df['Department'], df['Gender'], normalize='index') * 100\n",
    "print(crosstab_percent)"
   ]
  },
  {
   "cell_type": "markdown",
   "id": "ad581dd9-114d-49cc-9525-a0403511e605",
   "metadata": {},
   "source": [
    "### Crosstab with Multiple Variables"
   ]
  },
  {
   "cell_type": "code",
   "execution_count": 109,
   "id": "fae8a183-d885-405b-8be6-55047d96b363",
   "metadata": {},
   "outputs": [
    {
     "name": "stdout",
     "output_type": "stream",
     "text": [
      "Salary             50000  52000  55000  60000  70000  75000  80000\n",
      "Department Gender                                                 \n",
      "Finance    Male        0      0      0      0      1      1      0\n",
      "HR         Female      1      0      1      0      0      0      0\n",
      "           Male        0      1      0      0      0      0      0\n",
      "IT         Female      0      0      0      0      0      0      1\n",
      "           Male        0      0      0      1      0      0      0\n"
     ]
    }
   ],
   "source": [
    "crosstab_multi = pd.crosstab([df['Department'] , df['Gender']] , df['Salary'])\n",
    "print(crosstab_multi)"
   ]
  },
  {
   "cell_type": "markdown",
   "id": "8cf51495-afb6-49c7-88f5-f15984f8ad6c",
   "metadata": {},
   "source": [
    "### Step 10"
   ]
  },
  {
   "cell_type": "markdown",
   "id": "7b2a144a-7413-4211-b8dc-72ea5bddb705",
   "metadata": {},
   "source": [
    "### Sorting & Rearranging Data in Pandas"
   ]
  },
  {
   "cell_type": "markdown",
   "id": "67d8ee32-06a5-4db4-8f11-37bfc83d0065",
   "metadata": {},
   "source": [
    "### Sorting Data (df.sort_values())"
   ]
  },
  {
   "cell_type": "markdown",
   "id": "0f76edaa-138f-4cd4-a362-a650bfa32bc6",
   "metadata": {},
   "source": [
    "Sorting by a Single Column (Ascending Order)"
   ]
  },
  {
   "cell_type": "code",
   "execution_count": 116,
   "id": "d477f773-557a-4074-a9b0-e222e1eee8b6",
   "metadata": {},
   "outputs": [
    {
     "name": "stdout",
     "output_type": "stream",
     "text": [
      "      Name  Age  Salary\n",
      "4      Eve   22   55000\n",
      "0    Alice   25   50000\n",
      "1      Bob   30   60000\n",
      "2  Charlie   35   70000\n",
      "3    David   40   80000\n"
     ]
    }
   ],
   "source": [
    "data = {\n",
    "    'Name': ['Alice', 'Bob', 'Charlie', 'David', 'Eve'],\n",
    "    'Age': [25, 30, 35, 40, 22],\n",
    "    'Salary': [50000, 60000, 70000, 80000, 55000]\n",
    "}\n",
    "\n",
    "df = pd.DataFrame(data)\n",
    "\n",
    "df_sorted_asce = df.sort_values(by = 'Age')\n",
    "\n",
    "print(df_sorted_asce)"
   ]
  },
  {
   "cell_type": "markdown",
   "id": "1f98ecd7-04b2-4909-8b16-453caabb703b",
   "metadata": {},
   "source": [
    "Sorting by a Single Column (Descending Order)"
   ]
  },
  {
   "cell_type": "code",
   "execution_count": 118,
   "id": "6dc323eb-7e36-4dbc-b49a-278633ab2931",
   "metadata": {},
   "outputs": [
    {
     "name": "stdout",
     "output_type": "stream",
     "text": [
      "      Name  Age  Salary\n",
      "3    David   40   80000\n",
      "2  Charlie   35   70000\n",
      "1      Bob   30   60000\n",
      "4      Eve   22   55000\n",
      "0    Alice   25   50000\n"
     ]
    }
   ],
   "source": [
    "df_sorted_desc = df.sort_values(by = 'Salary' , ascending=False)\n",
    "print(df_sorted_desc)"
   ]
  },
  {
   "cell_type": "markdown",
   "id": "e963bcd1-e2de-4f97-9a12-7e12dbc68d7e",
   "metadata": {},
   "source": [
    "Sorting by Multiple Columns"
   ]
  },
  {
   "cell_type": "code",
   "execution_count": 119,
   "id": "2a1e0213-1b86-427b-b487-f1d45a3bfb48",
   "metadata": {},
   "outputs": [
    {
     "name": "stdout",
     "output_type": "stream",
     "text": [
      "      Name  Age  Salary\n",
      "4      Eve   22   55000\n",
      "0    Alice   25   50000\n",
      "1      Bob   30   60000\n",
      "2  Charlie   35   70000\n",
      "3    David   40   80000\n"
     ]
    }
   ],
   "source": [
    "df_sorted_multi = df.sort_values(by = ['Age','Salary'] , ascending = [True , False])\n",
    "print(df_sorted_multi)"
   ]
  },
  {
   "cell_type": "markdown",
   "id": "bc99b67e-d1e9-4360-83d4-3ef0596c05d4",
   "metadata": {},
   "source": [
    "Sorting by Index (df.sort_index())"
   ]
  },
  {
   "cell_type": "code",
   "execution_count": 120,
   "id": "cdaa6e52-c7af-4315-a669-2ef813d24a19",
   "metadata": {},
   "outputs": [
    {
     "name": "stdout",
     "output_type": "stream",
     "text": [
      "      Name  Age  Salary\n",
      "0    Alice   25   50000\n",
      "1      Bob   30   60000\n",
      "2  Charlie   35   70000\n",
      "3    David   40   80000\n",
      "4      Eve   22   55000\n"
     ]
    }
   ],
   "source": [
    "df_sorted_index = df.sort_index()\n",
    "print(df_sorted_index)"
   ]
  },
  {
   "cell_type": "markdown",
   "id": "c8453a75-b946-4fa2-a06b-d5fda7acafad",
   "metadata": {},
   "source": [
    "### Reset Index After Sorting"
   ]
  },
  {
   "cell_type": "code",
   "execution_count": 124,
   "id": "8c2863f2-2b4d-4380-8081-356a018df11a",
   "metadata": {},
   "outputs": [
    {
     "name": "stdout",
     "output_type": "stream",
     "text": [
      "      Name  Age  Salary\n",
      "0    David   40   80000\n",
      "1  Charlie   35   70000\n",
      "2      Bob   30   60000\n",
      "3    Alice   25   50000\n",
      "4      Eve   22   55000\n"
     ]
    }
   ],
   "source": [
    "df_sorted = df.sort_values(by = 'Age' , ascending = False)\n",
    "df_reset = df_sorted.reset_index(drop=True)\n",
    "\n",
    "print(df_reset)"
   ]
  },
  {
   "cell_type": "code",
   "execution_count": 125,
   "id": "5d74d136-4865-4a67-93f4-b35d7e9bb764",
   "metadata": {},
   "outputs": [
    {
     "name": "stdout",
     "output_type": "stream",
     "text": [
      "   index     Name  Age  Salary\n",
      "0      3    David   40   80000\n",
      "1      2  Charlie   35   70000\n",
      "2      1      Bob   30   60000\n",
      "3      0    Alice   25   50000\n",
      "4      4      Eve   22   55000\n"
     ]
    }
   ],
   "source": [
    "df_sorted = df.sort_values(by = 'Age' , ascending = False)\n",
    "df_reset = df_sorted.reset_index(drop=False)\n",
    "\n",
    "print(df_reset)"
   ]
  },
  {
   "cell_type": "markdown",
   "id": "36544296-43f3-4d74-a98c-dce80cc074f8",
   "metadata": {},
   "source": [
    "### Reset Index After Filtering"
   ]
  },
  {
   "cell_type": "code",
   "execution_count": 126,
   "id": "66f765d9-6c04-4ffc-96c7-325b3fec2f04",
   "metadata": {},
   "outputs": [
    {
     "name": "stdout",
     "output_type": "stream",
     "text": [
      "      Name  Age  Salary\n",
      "0  Charlie   35   70000\n",
      "1    David   40   80000\n"
     ]
    }
   ],
   "source": [
    "df_filtered = df[df['Salary'] > 60000]\n",
    "df_reset = df_filtered.reset_index(drop = True)\n",
    "\n",
    "print(df_reset)"
   ]
  },
  {
   "cell_type": "markdown",
   "id": "90cd6f56-8e0e-49d4-b84b-9a6c09cab568",
   "metadata": {},
   "source": [
    "### Reset Index and Keep Old Index"
   ]
  },
  {
   "cell_type": "code",
   "execution_count": 127,
   "id": "9de6e515-a07b-4904-a260-9b511eb3c7ff",
   "metadata": {},
   "outputs": [
    {
     "name": "stdout",
     "output_type": "stream",
     "text": [
      "   index     Name  Age  Salary\n",
      "0      2  Charlie   35   70000\n",
      "1      3    David   40   80000\n"
     ]
    }
   ],
   "source": [
    "df_filtered = df[df['Salary'] > 60000]\n",
    "df_reset = df_filtered.reset_index(drop = False)\n",
    "\n",
    "print(df_reset)"
   ]
  },
  {
   "cell_type": "code",
   "execution_count": null,
   "id": "e9592154-3137-4bd5-ad79-468162486483",
   "metadata": {},
   "outputs": [],
   "source": []
  }
 ],
 "metadata": {
  "kernelspec": {
   "display_name": "Python 3 (ipykernel)",
   "language": "python",
   "name": "python3"
  },
  "language_info": {
   "codemirror_mode": {
    "name": "ipython",
    "version": 3
   },
   "file_extension": ".py",
   "mimetype": "text/x-python",
   "name": "python",
   "nbconvert_exporter": "python",
   "pygments_lexer": "ipython3",
   "version": "3.12.7"
  }
 },
 "nbformat": 4,
 "nbformat_minor": 5
}
