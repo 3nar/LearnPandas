{
 "cells": [
  {
   "cell_type": "markdown",
   "id": "d52c6e8e-1d0e-4c59-9c1f-44ac30b5b38c",
   "metadata": {},
   "source": [
    "# Learn Pandas"
   ]
  },
  {
   "cell_type": "markdown",
   "id": "8a5063ca-68d7-4db4-8d89-31a1c6d76007",
   "metadata": {},
   "source": [
    "## Step 1"
   ]
  },
  {
   "cell_type": "markdown",
   "id": "804798e5-5447-4143-89da-c230d5125c75",
   "metadata": {},
   "source": [
    "### Importing Pandas"
   ]
  },
  {
   "cell_type": "code",
   "execution_count": 132,
   "id": "aac04397-325f-4ecc-9d69-70d89058b528",
   "metadata": {},
   "outputs": [],
   "source": [
    "import pandas as pd"
   ]
  },
  {
   "cell_type": "markdown",
   "id": "e7f9967c-8baa-49bc-af58-6c7a26d1b731",
   "metadata": {},
   "source": [
    "## Step 2"
   ]
  },
  {
   "cell_type": "markdown",
   "id": "72c27724-5c43-48f4-9a4b-361ff5c66817",
   "metadata": {},
   "source": [
    "### Series & DataFrame"
   ]
  },
  {
   "cell_type": "code",
   "execution_count": 133,
   "id": "9b88f63c-93ec-42ca-a2ee-bdf2dd207c9f",
   "metadata": {},
   "outputs": [
    {
     "name": "stdout",
     "output_type": "stream",
     "text": [
      "0    10\n",
      "1    20\n",
      "2    30\n",
      "3    40\n",
      "dtype: int64\n"
     ]
    }
   ],
   "source": [
    "data = [10, 20, 30, 40]\n",
    "series = pd.Series(data)\n",
    "print(series)"
   ]
  },
  {
   "cell_type": "code",
   "execution_count": 134,
   "id": "cd21dab1-69dd-4f12-a0a9-0b0edfb0d3d9",
   "metadata": {},
   "outputs": [
    {
     "name": "stdout",
     "output_type": "stream",
     "text": [
      "a    100\n",
      "b    200\n",
      "c    300\n",
      "d    400\n",
      "dtype: int64\n"
     ]
    }
   ],
   "source": [
    "data = [100, 200, 300, 400]\n",
    "index_labels = ['a', 'b', 'c', 'd']\n",
    "\n",
    "series = pd.Series(data, index=index_labels)\n",
    "print(series)"
   ]
  },
  {
   "cell_type": "code",
   "execution_count": 135,
   "id": "fb21b3cd-3102-4e51-97cc-7b5f9a6d0b1a",
   "metadata": {},
   "outputs": [
    {
     "name": "stdout",
     "output_type": "stream",
     "text": [
      "200\n"
     ]
    }
   ],
   "source": [
    "print(series['b'])"
   ]
  },
  {
   "cell_type": "code",
   "execution_count": 136,
   "id": "00114a0f-29ff-4134-b4c9-25eaef166ba3",
   "metadata": {},
   "outputs": [
    {
     "name": "stdout",
     "output_type": "stream",
     "text": [
      "Alice      90\n",
      "Bob        85\n",
      "Charlie    95\n",
      "dtype: int64\n"
     ]
    }
   ],
   "source": [
    "data_dict = {'Alice': 90, 'Bob': 85, 'Charlie': 95}\n",
    "series = pd.Series(data_dict)\n",
    "print(series)"
   ]
  },
  {
   "cell_type": "code",
   "execution_count": 137,
   "id": "f7f641ec-5075-4578-8a34-69985d85e28d",
   "metadata": {},
   "outputs": [
    {
     "name": "stdout",
     "output_type": "stream",
     "text": [
      "      Name  Age         City\n",
      "0    Alice   25     New York\n",
      "1      Bob   30  Los Angeles\n",
      "2  Charlie   35      Chicago\n"
     ]
    }
   ],
   "source": [
    "data = {\n",
    "    'Name': ['Alice', 'Bob', 'Charlie'],\n",
    "    'Age': [25, 30, 35],\n",
    "    'City': ['New York', 'Los Angeles', 'Chicago']\n",
    "}\n",
    "\n",
    "df = pd.DataFrame(data)\n",
    "print(df)"
   ]
  },
  {
   "cell_type": "code",
   "execution_count": 138,
   "id": "bef97ef2-07b2-43f8-b6c2-2bbd1544067a",
   "metadata": {},
   "outputs": [
    {
     "name": "stdout",
     "output_type": "stream",
     "text": [
      "      Name  Age         City\n",
      "0    Alice   25     New York\n",
      "1      Bob   30  Los Angeles\n",
      "2  Charlie   35      Chicago\n"
     ]
    }
   ],
   "source": [
    "print(df.head())"
   ]
  },
  {
   "cell_type": "code",
   "execution_count": 139,
   "id": "3025d3c1-f2d7-48ca-8ee9-b12d26e94a10",
   "metadata": {},
   "outputs": [
    {
     "name": "stdout",
     "output_type": "stream",
     "text": [
      "      Name  Age         City\n",
      "0    Alice   25     New York\n",
      "1      Bob   30  Los Angeles\n",
      "2  Charlie   35      Chicago\n"
     ]
    }
   ],
   "source": [
    "print(df.tail())"
   ]
  },
  {
   "cell_type": "code",
   "execution_count": 140,
   "id": "872c2438-d129-4306-8f22-00ef0ebe6c73",
   "metadata": {},
   "outputs": [
    {
     "name": "stdout",
     "output_type": "stream",
     "text": [
      "<class 'pandas.core.frame.DataFrame'>\n",
      "RangeIndex: 3 entries, 0 to 2\n",
      "Data columns (total 3 columns):\n",
      " #   Column  Non-Null Count  Dtype \n",
      "---  ------  --------------  ----- \n",
      " 0   Name    3 non-null      object\n",
      " 1   Age     3 non-null      int64 \n",
      " 2   City    3 non-null      object\n",
      "dtypes: int64(1), object(2)\n",
      "memory usage: 204.0+ bytes\n",
      "None\n"
     ]
    }
   ],
   "source": [
    "print(df.info())"
   ]
  },
  {
   "cell_type": "code",
   "execution_count": 141,
   "id": "f8b17ec8-124f-4aed-b4e1-9682c2ec2213",
   "metadata": {},
   "outputs": [
    {
     "name": "stdout",
     "output_type": "stream",
     "text": [
      "        Age\n",
      "count   3.0\n",
      "mean   30.0\n",
      "std     5.0\n",
      "min    25.0\n",
      "25%    27.5\n",
      "50%    30.0\n",
      "75%    32.5\n",
      "max    35.0\n"
     ]
    }
   ],
   "source": [
    "print(df.describe())"
   ]
  },
  {
   "cell_type": "markdown",
   "id": "0cfdc75c-a868-4c28-bdcd-11362d5f5bc3",
   "metadata": {},
   "source": [
    "## Step 3"
   ]
  },
  {
   "cell_type": "markdown",
   "id": "5ae2bd07-0a08-42f3-a03b-1a979f9d59ea",
   "metadata": {},
   "source": [
    "### Reading & Writing Data"
   ]
  },
  {
   "cell_type": "code",
   "execution_count": 142,
   "id": "6c31e8d6-1eb7-40e9-8a66-6f0ba2f24d14",
   "metadata": {},
   "outputs": [
    {
     "name": "stdout",
     "output_type": "stream",
     "text": [
      "   enrollee_id      city  city_development_index gender  \\\n",
      "0         8949  city_103                   0.920   Male   \n",
      "1        29725   city_40                   0.776   Male   \n",
      "2        11561   city_21                   0.624    NaN   \n",
      "3        33241  city_115                   0.789    NaN   \n",
      "4          666  city_162                   0.767   Male   \n",
      "\n",
      "       relevent_experience enrolled_university education_level  \\\n",
      "0  Has relevent experience       no_enrollment        Graduate   \n",
      "1   No relevent experience       no_enrollment        Graduate   \n",
      "2   No relevent experience    Full time course        Graduate   \n",
      "3   No relevent experience                 NaN        Graduate   \n",
      "4  Has relevent experience       no_enrollment         Masters   \n",
      "\n",
      "  major_discipline  experience company_size    company_type  training_hours  \\\n",
      "0             STEM        20.0          NaN             NaN            36.0   \n",
      "1             STEM        15.0        50-99         Pvt Ltd            47.0   \n",
      "2             STEM         5.0          NaN             NaN            83.0   \n",
      "3  Business Degree         0.0          NaN         Pvt Ltd            52.0   \n",
      "4             STEM        20.0        50-99  Funded Startup             8.0   \n",
      "\n",
      "   target  \n",
      "0     1.0  \n",
      "1     0.0  \n",
      "2     0.0  \n",
      "3     1.0  \n",
      "4     0.0  \n"
     ]
    }
   ],
   "source": [
    "df = pd.read_csv('data.csv')\n",
    "print(df.head())"
   ]
  },
  {
   "cell_type": "code",
   "execution_count": 143,
   "id": "b8b10203-d847-4a1b-b79e-c526ae192ad9",
   "metadata": {},
   "outputs": [
    {
     "name": "stdout",
     "output_type": "stream",
     "text": [
      "                0         1                       2       3   \\\n",
      "0      enrollee_id      city  city_development_index  gender   \n",
      "1             8949  city_103                    0.92    Male   \n",
      "2            29725   city_40      0.7759999999999999    Male   \n",
      "3            11561   city_21                   0.624     NaN   \n",
      "4            33241  city_115                   0.789     NaN   \n",
      "...            ...       ...                     ...     ...   \n",
      "19154         7386  city_173                   0.878    Male   \n",
      "19155        31398  city_103                    0.92    Male   \n",
      "19156        24576  city_103                    0.92    Male   \n",
      "19157         5756   city_65                   0.802    Male   \n",
      "19158        23834   city_67                   0.855     NaN   \n",
      "\n",
      "                            4                    5                6   \\\n",
      "0          relevent_experience  enrolled_university  education_level   \n",
      "1      Has relevent experience        no_enrollment         Graduate   \n",
      "2       No relevent experience        no_enrollment         Graduate   \n",
      "3       No relevent experience     Full time course         Graduate   \n",
      "4       No relevent experience                  NaN         Graduate   \n",
      "...                        ...                  ...              ...   \n",
      "19154   No relevent experience        no_enrollment         Graduate   \n",
      "19155  Has relevent experience        no_enrollment         Graduate   \n",
      "19156  Has relevent experience        no_enrollment         Graduate   \n",
      "19157  Has relevent experience        no_enrollment      High School   \n",
      "19158   No relevent experience        no_enrollment   Primary School   \n",
      "\n",
      "                     7           8             9             10  \\\n",
      "0      major_discipline  experience  company_size  company_type   \n",
      "1                  STEM          20           NaN           NaN   \n",
      "2                  STEM          15         50-99       Pvt Ltd   \n",
      "3                  STEM           5           NaN           NaN   \n",
      "4       Business Degree           0           NaN       Pvt Ltd   \n",
      "...                 ...         ...           ...           ...   \n",
      "19154        Humanities          14           NaN           NaN   \n",
      "19155              STEM          14           NaN           NaN   \n",
      "19156              STEM          20         50-99       Pvt Ltd   \n",
      "19157               NaN           0       500-999       Pvt Ltd   \n",
      "19158               NaN           2           NaN           NaN   \n",
      "\n",
      "                   11      12  \n",
      "0      training_hours  target  \n",
      "1                36.0     1.0  \n",
      "2                47.0     0.0  \n",
      "3                83.0     0.0  \n",
      "4                52.0     1.0  \n",
      "...               ...     ...  \n",
      "19154            42.0     1.0  \n",
      "19155            52.0     1.0  \n",
      "19156            44.0     0.0  \n",
      "19157            97.0     0.0  \n",
      "19158           127.0     0.0  \n",
      "\n",
      "[19159 rows x 13 columns]\n"
     ]
    }
   ],
   "source": [
    "df = pd.read_csv('data.csv', header=None)\n",
    "print(df)"
   ]
  },
  {
   "cell_type": "code",
   "execution_count": 144,
   "id": "29a146e1-2819-4ba3-bc01-60617f16667a",
   "metadata": {},
   "outputs": [
    {
     "name": "stdout",
     "output_type": "stream",
     "text": [
      "          enrollee_id  city_development_index gender      relevent_experience  \\\n",
      "city                                                                            \n",
      "city_103         8949                   0.920   Male  Has relevent experience   \n",
      "city_40         29725                   0.776   Male   No relevent experience   \n",
      "city_21         11561                   0.624    NaN   No relevent experience   \n",
      "city_115        33241                   0.789    NaN   No relevent experience   \n",
      "city_162          666                   0.767   Male  Has relevent experience   \n",
      "...               ...                     ...    ...                      ...   \n",
      "city_173         7386                   0.878   Male   No relevent experience   \n",
      "city_103        31398                   0.920   Male  Has relevent experience   \n",
      "city_103        24576                   0.920   Male  Has relevent experience   \n",
      "city_65          5756                   0.802   Male  Has relevent experience   \n",
      "city_67         23834                   0.855    NaN   No relevent experience   \n",
      "\n",
      "         enrolled_university education_level major_discipline  experience  \\\n",
      "city                                                                        \n",
      "city_103       no_enrollment        Graduate             STEM        20.0   \n",
      "city_40        no_enrollment        Graduate             STEM        15.0   \n",
      "city_21     Full time course        Graduate             STEM         5.0   \n",
      "city_115                 NaN        Graduate  Business Degree         0.0   \n",
      "city_162       no_enrollment         Masters             STEM        20.0   \n",
      "...                      ...             ...              ...         ...   \n",
      "city_173       no_enrollment        Graduate       Humanities        14.0   \n",
      "city_103       no_enrollment        Graduate             STEM        14.0   \n",
      "city_103       no_enrollment        Graduate             STEM        20.0   \n",
      "city_65        no_enrollment     High School              NaN         0.0   \n",
      "city_67        no_enrollment  Primary School              NaN         2.0   \n",
      "\n",
      "         company_size    company_type  training_hours  target  \n",
      "city                                                           \n",
      "city_103          NaN             NaN            36.0     1.0  \n",
      "city_40         50-99         Pvt Ltd            47.0     0.0  \n",
      "city_21           NaN             NaN            83.0     0.0  \n",
      "city_115          NaN         Pvt Ltd            52.0     1.0  \n",
      "city_162        50-99  Funded Startup             8.0     0.0  \n",
      "...               ...             ...             ...     ...  \n",
      "city_173          NaN             NaN            42.0     1.0  \n",
      "city_103          NaN             NaN            52.0     1.0  \n",
      "city_103        50-99         Pvt Ltd            44.0     0.0  \n",
      "city_65       500-999         Pvt Ltd            97.0     0.0  \n",
      "city_67           NaN             NaN           127.0     0.0  \n",
      "\n",
      "[19158 rows x 12 columns]\n"
     ]
    }
   ],
   "source": [
    "df = pd.read_csv('data.csv', index_col='city')\n",
    "print(df)"
   ]
  },
  {
   "cell_type": "code",
   "execution_count": 145,
   "id": "d7357a3d-6dbd-42f9-bd41-d2b1d8bb7de9",
   "metadata": {},
   "outputs": [
    {
     "name": "stdout",
     "output_type": "stream",
     "text": [
      "       enrollee_id      city  city_development_index gender  \\\n",
      "0             8949  city_103                   0.920   Male   \n",
      "1            29725   city_40                   0.776   Male   \n",
      "2            11561   city_21                   0.624    NaN   \n",
      "3            33241  city_115                   0.789    NaN   \n",
      "4              666  city_162                   0.767   Male   \n",
      "...            ...       ...                     ...    ...   \n",
      "19153         7386  city_173                   0.878   Male   \n",
      "19154        31398  city_103                   0.920   Male   \n",
      "19155        24576  city_103                   0.920   Male   \n",
      "19156         5756   city_65                   0.802   Male   \n",
      "19157        23834   city_67                   0.855    NaN   \n",
      "\n",
      "           relevent_experience enrolled_university education_level  \\\n",
      "0      Has relevent experience       no_enrollment        Graduate   \n",
      "1       No relevent experience       no_enrollment        Graduate   \n",
      "2       No relevent experience    Full time course        Graduate   \n",
      "3       No relevent experience                 NaN        Graduate   \n",
      "4      Has relevent experience       no_enrollment         Masters   \n",
      "...                        ...                 ...             ...   \n",
      "19153   No relevent experience       no_enrollment        Graduate   \n",
      "19154  Has relevent experience       no_enrollment        Graduate   \n",
      "19155  Has relevent experience       no_enrollment        Graduate   \n",
      "19156  Has relevent experience       no_enrollment     High School   \n",
      "19157   No relevent experience       no_enrollment  Primary School   \n",
      "\n",
      "      major_discipline  experience company_size    company_type  \\\n",
      "0                 STEM        20.0          NaN             NaN   \n",
      "1                 STEM        15.0        50-99         Pvt Ltd   \n",
      "2                 STEM         5.0          NaN             NaN   \n",
      "3      Business Degree         0.0          NaN         Pvt Ltd   \n",
      "4                 STEM        20.0        50-99  Funded Startup   \n",
      "...                ...         ...          ...             ...   \n",
      "19153       Humanities        14.0          NaN             NaN   \n",
      "19154             STEM        14.0          NaN             NaN   \n",
      "19155             STEM        20.0        50-99         Pvt Ltd   \n",
      "19156              NaN         0.0      500-999         Pvt Ltd   \n",
      "19157              NaN         2.0          NaN             NaN   \n",
      "\n",
      "       training_hours  target  \n",
      "0                36.0     1.0  \n",
      "1                47.0     0.0  \n",
      "2                83.0     0.0  \n",
      "3                52.0     1.0  \n",
      "4                 8.0     0.0  \n",
      "...               ...     ...  \n",
      "19153            42.0     1.0  \n",
      "19154            52.0     1.0  \n",
      "19155            44.0     0.0  \n",
      "19156            97.0     0.0  \n",
      "19157           127.0     0.0  \n",
      "\n",
      "[19158 rows x 13 columns]\n"
     ]
    }
   ],
   "source": [
    "df = pd.read_csv('data.csv', na_values=['NA', 'N/A', 'Missing'])\n",
    "print(df)"
   ]
  },
  {
   "cell_type": "code",
   "execution_count": 146,
   "id": "2d09a805-fc44-4fdd-9ce9-3c04f58995d9",
   "metadata": {},
   "outputs": [],
   "source": [
    "df.to_csv('output.csv', index=False)"
   ]
  },
  {
   "cell_type": "code",
   "execution_count": 147,
   "id": "992ddd20-836f-4b24-850f-83f9d905b542",
   "metadata": {},
   "outputs": [
    {
     "name": "stdout",
     "output_type": "stream",
     "text": [
      "     client_id                     full_name  age        gender  \\\n",
      "0            1  Герасим Владиленович Тихонов   76       Мужской   \n",
      "1            2     Соболева Марфа Дмитриевна   68       Женский   \n",
      "2            3     Новикова Кира Геннадьевна   75       Мужской   \n",
      "3            4   Кудрявцев Измаил Федосеевич   40       Мужской   \n",
      "4            5    Ангелина Аркадьевна Лапина   64       Женский   \n",
      "..         ...                           ...  ...           ...   \n",
      "220        221      Харитон Марсович Новиков   27       Мужской   \n",
      "221        222        Юдина Иванна Андреевна   36       Женский   \n",
      "222        223  Афанасьев Творимир Вилорович   43  Неразрешимый   \n",
      "223        224     Юлия Николаевна Артемьева   23       Мужской   \n",
      "224        225      Потапов Гедеон Абрамович   92       Мужской   \n",
      "\n",
      "     deposit_amount  interest_rate deposit_date                        email  \\\n",
      "0            444.00           7.33   2024-05-08      fokinvladlen@zhukova.ru   \n",
      "1         141271.96           6.68   2024-10-26  birjukovvenedikt@rambler.ru   \n",
      "2         373703.30           3.24   2024-01-19           pimen_1995@npo.biz   \n",
      "3         271911.53           5.65   2024-02-18             serafim47@npo.ru   \n",
      "4         324092.48           7.87   2023-12-22        stepanovamaja@rao.net   \n",
      "..              ...            ...          ...                          ...   \n",
      "220       561129.93          21.63   2024-03-24       uljana1989@hotmail.com   \n",
      "221      1823607.79           2.64   2024-01-29           polina29@yandex.ru   \n",
      "222       683894.54           3.20   2024-10-06     morozovnikodim@gmail.com   \n",
      "223       323559.59          14.98   2023-03-17         nina1974@hotmail.com   \n",
      "224      1960813.33          15.47   2020-02-21      narkis_1994@shneder.biz   \n",
      "\n",
      "      phone_number    account_type  branch_location  is_active  \n",
      "0    7543802895836         Текущий  Санкт-Петербург       True  \n",
      "1    7020708166798         Текущий           Москва      False  \n",
      "2    7331081529784         Текущий     Екатеринбург      False  \n",
      "3    7798771280631  Сберегательный           Казань      False  \n",
      "4    7525444647270         Текущий      Новосибирск      False  \n",
      "..             ...             ...              ...        ...  \n",
      "220  7485554892063  Сберегательный        Краснодар       True  \n",
      "221  7203530658954  Индивидуальный        Краснодар      False  \n",
      "222  7240799594128      Депозитный          Воронеж       True  \n",
      "223  7873979856776      Депозитный          Воронеж      False  \n",
      "224  7743929020470      Депозитный          Воронеж      False  \n",
      "\n",
      "[225 rows x 12 columns]\n"
     ]
    }
   ],
   "source": [
    "df = pd.read_excel('data.xlsx')\n",
    "print(df)"
   ]
  },
  {
   "cell_type": "code",
   "execution_count": 148,
   "id": "942a2064-5992-4383-8cb1-ee216ebdad1d",
   "metadata": {},
   "outputs": [
    {
     "name": "stdout",
     "output_type": "stream",
     "text": [
      "     client_id                     full_name  age        gender  \\\n",
      "0            1  Герасим Владиленович Тихонов   76       Мужской   \n",
      "1            2     Соболева Марфа Дмитриевна   68       Женский   \n",
      "2            3     Новикова Кира Геннадьевна   75       Мужской   \n",
      "3            4   Кудрявцев Измаил Федосеевич   40       Мужской   \n",
      "4            5    Ангелина Аркадьевна Лапина   64       Женский   \n",
      "..         ...                           ...  ...           ...   \n",
      "220        221      Харитон Марсович Новиков   27       Мужской   \n",
      "221        222        Юдина Иванна Андреевна   36       Женский   \n",
      "222        223  Афанасьев Творимир Вилорович   43  Неразрешимый   \n",
      "223        224     Юлия Николаевна Артемьева   23       Мужской   \n",
      "224        225      Потапов Гедеон Абрамович   92       Мужской   \n",
      "\n",
      "     deposit_amount  interest_rate deposit_date                        email  \\\n",
      "0            444.00           7.33   2024-05-08      fokinvladlen@zhukova.ru   \n",
      "1         141271.96           6.68   2024-10-26  birjukovvenedikt@rambler.ru   \n",
      "2         373703.30           3.24   2024-01-19           pimen_1995@npo.biz   \n",
      "3         271911.53           5.65   2024-02-18             serafim47@npo.ru   \n",
      "4         324092.48           7.87   2023-12-22        stepanovamaja@rao.net   \n",
      "..              ...            ...          ...                          ...   \n",
      "220       561129.93          21.63   2024-03-24       uljana1989@hotmail.com   \n",
      "221      1823607.79           2.64   2024-01-29           polina29@yandex.ru   \n",
      "222       683894.54           3.20   2024-10-06     morozovnikodim@gmail.com   \n",
      "223       323559.59          14.98   2023-03-17         nina1974@hotmail.com   \n",
      "224      1960813.33          15.47   2020-02-21      narkis_1994@shneder.biz   \n",
      "\n",
      "      phone_number    account_type  branch_location  is_active  \n",
      "0    7543802895836         Текущий  Санкт-Петербург       True  \n",
      "1    7020708166798         Текущий           Москва      False  \n",
      "2    7331081529784         Текущий     Екатеринбург      False  \n",
      "3    7798771280631  Сберегательный           Казань      False  \n",
      "4    7525444647270         Текущий      Новосибирск      False  \n",
      "..             ...             ...              ...        ...  \n",
      "220  7485554892063  Сберегательный        Краснодар       True  \n",
      "221  7203530658954  Индивидуальный        Краснодар      False  \n",
      "222  7240799594128      Депозитный          Воронеж       True  \n",
      "223  7873979856776      Депозитный          Воронеж      False  \n",
      "224  7743929020470      Депозитный          Воронеж      False  \n",
      "\n",
      "[225 rows x 12 columns]\n"
     ]
    }
   ],
   "source": [
    "df = pd.read_excel('data.xlsx', sheet_name='Sheet1')\n",
    "print(df)"
   ]
  },
  {
   "cell_type": "code",
   "execution_count": 149,
   "id": "1d54056b-6f66-4016-bf7f-279d7564b177",
   "metadata": {},
   "outputs": [
    {
     "name": "stdout",
     "output_type": "stream",
     "text": [
      "           client_id                     full_name  age        gender  \\\n",
      "is_active                                                               \n",
      "True               1  Герасим Владиленович Тихонов   76       Мужской   \n",
      "False              2     Соболева Марфа Дмитриевна   68       Женский   \n",
      "False              3     Новикова Кира Геннадьевна   75       Мужской   \n",
      "False              4   Кудрявцев Измаил Федосеевич   40       Мужской   \n",
      "False              5    Ангелина Аркадьевна Лапина   64       Женский   \n",
      "...              ...                           ...  ...           ...   \n",
      "True             221      Харитон Марсович Новиков   27       Мужской   \n",
      "False            222        Юдина Иванна Андреевна   36       Женский   \n",
      "True             223  Афанасьев Творимир Вилорович   43  Неразрешимый   \n",
      "False            224     Юлия Николаевна Артемьева   23       Мужской   \n",
      "False            225      Потапов Гедеон Абрамович   92       Мужской   \n",
      "\n",
      "           deposit_amount  interest_rate deposit_date  \\\n",
      "is_active                                               \n",
      "True               444.00           7.33   2024-05-08   \n",
      "False           141271.96           6.68   2024-10-26   \n",
      "False           373703.30           3.24   2024-01-19   \n",
      "False           271911.53           5.65   2024-02-18   \n",
      "False           324092.48           7.87   2023-12-22   \n",
      "...                   ...            ...          ...   \n",
      "True            561129.93          21.63   2024-03-24   \n",
      "False          1823607.79           2.64   2024-01-29   \n",
      "True            683894.54           3.20   2024-10-06   \n",
      "False           323559.59          14.98   2023-03-17   \n",
      "False          1960813.33          15.47   2020-02-21   \n",
      "\n",
      "                                 email   phone_number    account_type  \\\n",
      "is_active                                                               \n",
      "True           fokinvladlen@zhukova.ru  7543802895836         Текущий   \n",
      "False      birjukovvenedikt@rambler.ru  7020708166798         Текущий   \n",
      "False               pimen_1995@npo.biz  7331081529784         Текущий   \n",
      "False                 serafim47@npo.ru  7798771280631  Сберегательный   \n",
      "False            stepanovamaja@rao.net  7525444647270         Текущий   \n",
      "...                                ...            ...             ...   \n",
      "True            uljana1989@hotmail.com  7485554892063  Сберегательный   \n",
      "False               polina29@yandex.ru  7203530658954  Индивидуальный   \n",
      "True          morozovnikodim@gmail.com  7240799594128      Депозитный   \n",
      "False             nina1974@hotmail.com  7873979856776      Депозитный   \n",
      "False          narkis_1994@shneder.biz  7743929020470      Депозитный   \n",
      "\n",
      "           branch_location  \n",
      "is_active                   \n",
      "True       Санкт-Петербург  \n",
      "False               Москва  \n",
      "False         Екатеринбург  \n",
      "False               Казань  \n",
      "False          Новосибирск  \n",
      "...                    ...  \n",
      "True             Краснодар  \n",
      "False            Краснодар  \n",
      "True               Воронеж  \n",
      "False              Воронеж  \n",
      "False              Воронеж  \n",
      "\n",
      "[225 rows x 11 columns]\n"
     ]
    }
   ],
   "source": [
    "df = pd.read_excel('data.xlsx', index_col='is_active')\n",
    "print(df)"
   ]
  },
  {
   "cell_type": "code",
   "execution_count": 150,
   "id": "4512c61b-de52-4711-84cc-991590a56d35",
   "metadata": {},
   "outputs": [],
   "source": [
    "df.to_excel('output.xlsx',index=False)"
   ]
  },
  {
   "cell_type": "code",
   "execution_count": 151,
   "id": "74340f1a-601f-48fb-9de2-b4f7efcb9785",
   "metadata": {},
   "outputs": [],
   "source": [
    "df.to_excel('output.xlsx', sheet_name='ProcessedData', index=False)"
   ]
  },
  {
   "cell_type": "markdown",
   "id": "2b019802-aefa-425b-adc9-9617f4af0534",
   "metadata": {},
   "source": [
    "## Step 4"
   ]
  },
  {
   "cell_type": "markdown",
   "id": "a5904c47-bde8-4bfa-971c-5023a2adf4ec",
   "metadata": {},
   "source": [
    "### Selecting & Indexing Data"
   ]
  },
  {
   "cell_type": "code",
   "execution_count": 152,
   "id": "6134d8f5-0aaa-42ff-8b4d-0fcb8a13d99f",
   "metadata": {},
   "outputs": [
    {
     "name": "stdout",
     "output_type": "stream",
     "text": [
      "       enrollee_id      city  city_development_index gender  \\\n",
      "0             8949  city_103                   0.920   Male   \n",
      "1            29725   city_40                   0.776   Male   \n",
      "2            11561   city_21                   0.624    NaN   \n",
      "3            33241  city_115                   0.789    NaN   \n",
      "4              666  city_162                   0.767   Male   \n",
      "...            ...       ...                     ...    ...   \n",
      "19153         7386  city_173                   0.878   Male   \n",
      "19154        31398  city_103                   0.920   Male   \n",
      "19155        24576  city_103                   0.920   Male   \n",
      "19156         5756   city_65                   0.802   Male   \n",
      "19157        23834   city_67                   0.855    NaN   \n",
      "\n",
      "           relevent_experience enrolled_university education_level  \\\n",
      "0      Has relevent experience       no_enrollment        Graduate   \n",
      "1       No relevent experience       no_enrollment        Graduate   \n",
      "2       No relevent experience    Full time course        Graduate   \n",
      "3       No relevent experience                 NaN        Graduate   \n",
      "4      Has relevent experience       no_enrollment         Masters   \n",
      "...                        ...                 ...             ...   \n",
      "19153   No relevent experience       no_enrollment        Graduate   \n",
      "19154  Has relevent experience       no_enrollment        Graduate   \n",
      "19155  Has relevent experience       no_enrollment        Graduate   \n",
      "19156  Has relevent experience       no_enrollment     High School   \n",
      "19157   No relevent experience       no_enrollment  Primary School   \n",
      "\n",
      "      major_discipline  experience company_size    company_type  \\\n",
      "0                 STEM        20.0          NaN             NaN   \n",
      "1                 STEM        15.0        50-99         Pvt Ltd   \n",
      "2                 STEM         5.0          NaN             NaN   \n",
      "3      Business Degree         0.0          NaN         Pvt Ltd   \n",
      "4                 STEM        20.0        50-99  Funded Startup   \n",
      "...                ...         ...          ...             ...   \n",
      "19153       Humanities        14.0          NaN             NaN   \n",
      "19154             STEM        14.0          NaN             NaN   \n",
      "19155             STEM        20.0        50-99         Pvt Ltd   \n",
      "19156              NaN         0.0      500-999         Pvt Ltd   \n",
      "19157              NaN         2.0          NaN             NaN   \n",
      "\n",
      "       training_hours  target  \n",
      "0                36.0     1.0  \n",
      "1                47.0     0.0  \n",
      "2                83.0     0.0  \n",
      "3                52.0     1.0  \n",
      "4                 8.0     0.0  \n",
      "...               ...     ...  \n",
      "19153            42.0     1.0  \n",
      "19154            52.0     1.0  \n",
      "19155            44.0     0.0  \n",
      "19156            97.0     0.0  \n",
      "19157           127.0     0.0  \n",
      "\n",
      "[19158 rows x 13 columns]\n"
     ]
    }
   ],
   "source": [
    "data = pd.read_csv('data.csv')\n",
    "print(data)"
   ]
  },
  {
   "cell_type": "markdown",
   "id": "87f39e5b-6883-4f15-8572-a1a6e915a5da",
   "metadata": {},
   "source": [
    "### Selecting Columns"
   ]
  },
  {
   "cell_type": "code",
   "execution_count": 153,
   "id": "e6c1331f-0c7b-45ed-9ccb-f689d692f9ed",
   "metadata": {},
   "outputs": [
    {
     "name": "stdout",
     "output_type": "stream",
     "text": [
      "0         8949\n",
      "1        29725\n",
      "2        11561\n",
      "3        33241\n",
      "4          666\n",
      "         ...  \n",
      "19153     7386\n",
      "19154    31398\n",
      "19155    24576\n",
      "19156     5756\n",
      "19157    23834\n",
      "Name: enrollee_id, Length: 19158, dtype: int64\n"
     ]
    }
   ],
   "source": [
    "df = pd.DataFrame(data)\n",
    "print(df['enrollee_id'])"
   ]
  },
  {
   "cell_type": "code",
   "execution_count": 154,
   "id": "3541e66c-a2d3-4fa3-937a-f1f8a23c1d28",
   "metadata": {},
   "outputs": [
    {
     "name": "stdout",
     "output_type": "stream",
     "text": [
      "0        city_103\n",
      "1         city_40\n",
      "2         city_21\n",
      "3        city_115\n",
      "4        city_162\n",
      "           ...   \n",
      "19153    city_173\n",
      "19154    city_103\n",
      "19155    city_103\n",
      "19156     city_65\n",
      "19157     city_67\n",
      "Name: city, Length: 19158, dtype: object\n"
     ]
    }
   ],
   "source": [
    "print(df['city'])"
   ]
  },
  {
   "cell_type": "markdown",
   "id": "42b6d27b-7e46-4d34-af5d-6581bfb3fe65",
   "metadata": {},
   "source": [
    "### Selecting Multiple Columns"
   ]
  },
  {
   "cell_type": "code",
   "execution_count": 155,
   "id": "df24b01b-bbdb-4ad8-a7d7-3d2a8063dc36",
   "metadata": {},
   "outputs": [
    {
     "name": "stdout",
     "output_type": "stream",
     "text": [
      "       enrollee_id      city gender\n",
      "0             8949  city_103   Male\n",
      "1            29725   city_40   Male\n",
      "2            11561   city_21    NaN\n",
      "3            33241  city_115    NaN\n",
      "4              666  city_162   Male\n",
      "...            ...       ...    ...\n",
      "19153         7386  city_173   Male\n",
      "19154        31398  city_103   Male\n",
      "19155        24576  city_103   Male\n",
      "19156         5756   city_65   Male\n",
      "19157        23834   city_67    NaN\n",
      "\n",
      "[19158 rows x 3 columns]\n"
     ]
    }
   ],
   "source": [
    "df_subset = df[['enrollee_id' , 'city' , 'gender']]\n",
    "print(df_subset)"
   ]
  },
  {
   "cell_type": "markdown",
   "id": "b631a7ba-0096-45a0-be7e-8572b06c198f",
   "metadata": {},
   "source": [
    "### Selecting Rows"
   ]
  },
  {
   "cell_type": "markdown",
   "id": "35f68b2a-ebf1-43dc-a6e8-bec88d1d6063",
   "metadata": {},
   "source": [
    "### Selecting Rows by Index using .loc[]"
   ]
  },
  {
   "cell_type": "code",
   "execution_count": 156,
   "id": "3f37fdec-24ac-49db-b285-198d0f15ce28",
   "metadata": {},
   "outputs": [
    {
     "name": "stdout",
     "output_type": "stream",
     "text": [
      "enrollee_id                                29725\n",
      "city                                     city_40\n",
      "city_development_index                     0.776\n",
      "gender                                      Male\n",
      "relevent_experience       No relevent experience\n",
      "enrolled_university                no_enrollment\n",
      "education_level                         Graduate\n",
      "major_discipline                            STEM\n",
      "experience                                  15.0\n",
      "company_size                               50-99\n",
      "company_type                             Pvt Ltd\n",
      "training_hours                              47.0\n",
      "target                                       0.0\n",
      "Name: 1, dtype: object\n"
     ]
    }
   ],
   "source": [
    "print(df.loc[1])"
   ]
  },
  {
   "cell_type": "markdown",
   "id": "161235b8-45b2-4920-9085-b98133172b01",
   "metadata": {},
   "source": [
    "### Selecting Rows by Position using .iloc[]"
   ]
  },
  {
   "cell_type": "code",
   "execution_count": 157,
   "id": "dc92ba12-eb7a-4fd0-875d-1be1a8da0dfe",
   "metadata": {},
   "outputs": [
    {
     "name": "stdout",
     "output_type": "stream",
     "text": [
      "enrollee_id                                29725\n",
      "city                                     city_40\n",
      "city_development_index                     0.776\n",
      "gender                                      Male\n",
      "relevent_experience       No relevent experience\n",
      "enrolled_university                no_enrollment\n",
      "education_level                         Graduate\n",
      "major_discipline                            STEM\n",
      "experience                                  15.0\n",
      "company_size                               50-99\n",
      "company_type                             Pvt Ltd\n",
      "training_hours                              47.0\n",
      "target                                       0.0\n",
      "Name: 1, dtype: object\n"
     ]
    }
   ],
   "source": [
    "print(df.iloc[1])"
   ]
  },
  {
   "cell_type": "markdown",
   "id": "cdda421f-ba60-455b-abf4-841b617a9bd8",
   "metadata": {},
   "source": [
    "### Selecting Multiple Rows"
   ]
  },
  {
   "cell_type": "code",
   "execution_count": 158,
   "id": "7bb97412-5b12-4ac7-b918-b4763c891445",
   "metadata": {},
   "outputs": [
    {
     "name": "stdout",
     "output_type": "stream",
     "text": [
      "   enrollee_id      city  city_development_index gender  \\\n",
      "0         8949  city_103                   0.920   Male   \n",
      "3        33241  city_115                   0.789    NaN   \n",
      "\n",
      "       relevent_experience enrolled_university education_level  \\\n",
      "0  Has relevent experience       no_enrollment        Graduate   \n",
      "3   No relevent experience                 NaN        Graduate   \n",
      "\n",
      "  major_discipline  experience company_size company_type  training_hours  \\\n",
      "0             STEM        20.0          NaN          NaN            36.0   \n",
      "3  Business Degree         0.0          NaN      Pvt Ltd            52.0   \n",
      "\n",
      "   target  \n",
      "0     1.0  \n",
      "3     1.0  \n"
     ]
    }
   ],
   "source": [
    "print(df.loc[[0 , 3]])"
   ]
  },
  {
   "cell_type": "code",
   "execution_count": 159,
   "id": "2b65312a-5d56-4817-abe7-2004e364a5e0",
   "metadata": {},
   "outputs": [
    {
     "name": "stdout",
     "output_type": "stream",
     "text": [
      "   enrollee_id      city  city_development_index gender  \\\n",
      "0         8949  city_103                   0.920   Male   \n",
      "1        29725   city_40                   0.776   Male   \n",
      "2        11561   city_21                   0.624    NaN   \n",
      "\n",
      "       relevent_experience enrolled_university education_level  \\\n",
      "0  Has relevent experience       no_enrollment        Graduate   \n",
      "1   No relevent experience       no_enrollment        Graduate   \n",
      "2   No relevent experience    Full time course        Graduate   \n",
      "\n",
      "  major_discipline  experience company_size company_type  training_hours  \\\n",
      "0             STEM        20.0          NaN          NaN            36.0   \n",
      "1             STEM        15.0        50-99      Pvt Ltd            47.0   \n",
      "2             STEM         5.0          NaN          NaN            83.0   \n",
      "\n",
      "   target  \n",
      "0     1.0  \n",
      "1     0.0  \n",
      "2     0.0  \n"
     ]
    }
   ],
   "source": [
    "print(df.iloc[0:3])"
   ]
  },
  {
   "cell_type": "markdown",
   "id": "bb29453f-c3db-46ab-a59b-76cac36f04d4",
   "metadata": {},
   "source": [
    "### Filtering Data"
   ]
  },
  {
   "cell_type": "markdown",
   "id": "8aa3456e-5f7c-48e3-93bb-9129f5e97c41",
   "metadata": {},
   "source": [
    "### Filtering Rows Based on a Condition"
   ]
  },
  {
   "cell_type": "code",
   "execution_count": 160,
   "id": "308aa088-f1b1-4057-a963-3e008c343569",
   "metadata": {},
   "outputs": [
    {
     "name": "stdout",
     "output_type": "stream",
     "text": [
      "       enrollee_id      city  city_development_index gender  \\\n",
      "0             8949  city_103                   0.920   Male   \n",
      "1            29725   city_40                   0.776   Male   \n",
      "4              666  city_162                   0.767   Male   \n",
      "6            28806  city_160                   0.920   Male   \n",
      "7              402   city_46                   0.762   Male   \n",
      "...            ...       ...                     ...    ...   \n",
      "19151        11385  city_149                   0.689   Male   \n",
      "19153         7386  city_173                   0.878   Male   \n",
      "19154        31398  city_103                   0.920   Male   \n",
      "19155        24576  city_103                   0.920   Male   \n",
      "19156         5756   city_65                   0.802   Male   \n",
      "\n",
      "           relevent_experience enrolled_university education_level  \\\n",
      "0      Has relevent experience       no_enrollment        Graduate   \n",
      "1       No relevent experience       no_enrollment        Graduate   \n",
      "4      Has relevent experience       no_enrollment         Masters   \n",
      "6      Has relevent experience       no_enrollment     High School   \n",
      "7      Has relevent experience       no_enrollment        Graduate   \n",
      "...                        ...                 ...             ...   \n",
      "19151   No relevent experience    Full time course        Graduate   \n",
      "19153   No relevent experience       no_enrollment        Graduate   \n",
      "19154  Has relevent experience       no_enrollment        Graduate   \n",
      "19155  Has relevent experience       no_enrollment        Graduate   \n",
      "19156  Has relevent experience       no_enrollment     High School   \n",
      "\n",
      "      major_discipline  experience company_size    company_type  \\\n",
      "0                 STEM        20.0          NaN             NaN   \n",
      "1                 STEM        15.0        50-99         Pvt Ltd   \n",
      "4                 STEM        20.0        50-99  Funded Startup   \n",
      "6                  NaN         5.0        50-99  Funded Startup   \n",
      "7                 STEM        13.0          <10         Pvt Ltd   \n",
      "...                ...         ...          ...             ...   \n",
      "19151              NaN         2.0          NaN             NaN   \n",
      "19153       Humanities        14.0          NaN             NaN   \n",
      "19154             STEM        14.0          NaN             NaN   \n",
      "19155             STEM        20.0        50-99         Pvt Ltd   \n",
      "19156              NaN         0.0      500-999         Pvt Ltd   \n",
      "\n",
      "       training_hours  target  \n",
      "0                36.0     1.0  \n",
      "1                47.0     0.0  \n",
      "4                 8.0     0.0  \n",
      "6                24.0     0.0  \n",
      "7                18.0     1.0  \n",
      "...               ...     ...  \n",
      "19151            60.0     0.0  \n",
      "19153            42.0     1.0  \n",
      "19154            52.0     1.0  \n",
      "19155            44.0     0.0  \n",
      "19156            97.0     0.0  \n",
      "\n",
      "[13221 rows x 13 columns]\n"
     ]
    }
   ],
   "source": [
    "filtered_df = df[df['gender'] == 'Male']\n",
    "print(filtered_df)"
   ]
  },
  {
   "cell_type": "markdown",
   "id": "d88bb434-9e9e-4b9d-a4dc-e0816da26118",
   "metadata": {},
   "source": [
    "### Filtering with Multiple Conditions"
   ]
  },
  {
   "cell_type": "code",
   "execution_count": 162,
   "id": "54498f09-8b86-4d37-ae4d-8786a6bdc90d",
   "metadata": {},
   "outputs": [
    {
     "name": "stdout",
     "output_type": "stream",
     "text": [
      "       enrollee_id     city  city_development_index gender  \\\n",
      "1            29725  city_40                   0.776   Male   \n",
      "23            7041  city_40                   0.776   Male   \n",
      "363          28229  city_40                   0.776   Male   \n",
      "461          18620  city_40                   0.776   Male   \n",
      "827           1783  city_40                   0.776   Male   \n",
      "998          29671  city_40                   0.776   Male   \n",
      "2916         21646  city_40                   0.776   Male   \n",
      "3636         10085  city_40                   0.776   Male   \n",
      "4251          2603  city_40                   0.776   Male   \n",
      "4346          4051  city_40                   0.776   Male   \n",
      "4526         11840  city_40                     NaN   Male   \n",
      "4588          7010  city_40                   0.776   Male   \n",
      "5156          7556  city_40                   0.776   Male   \n",
      "6330          5389  city_40                   0.776   Male   \n",
      "6483           484  city_40                   0.776   Male   \n",
      "6990         14681  city_40                   0.776   Male   \n",
      "7009          1221  city_40                   0.776   Male   \n",
      "8606         10244  city_40                   0.776   Male   \n",
      "8661          3200  city_40                   0.776   Male   \n",
      "8847         27287  city_40                   0.776   Male   \n",
      "9390         33101  city_40                   0.776   Male   \n",
      "9658         17972  city_40                   0.776   Male   \n",
      "10952        23316  city_40                   0.776   Male   \n",
      "11072        25420  city_40                   0.776   Male   \n",
      "11700        16999  city_40                   0.776   Male   \n",
      "12228        12801  city_40                   0.776   Male   \n",
      "12601         8663  city_40                   0.776   Male   \n",
      "12782        27144  city_40                   0.776   Male   \n",
      "13385         9845  city_40                   0.776   Male   \n",
      "13520        22956  city_40                   0.776   Male   \n",
      "14231         1047  city_40                   0.776   Male   \n",
      "14462         8565  city_40                   0.776   Male   \n",
      "15553        28032  city_40                   0.776   Male   \n",
      "16174        15617  city_40                   0.776   Male   \n",
      "17315        25444  city_40                   0.776   Male   \n",
      "17324        15257  city_40                   0.776   Male   \n",
      "17761        31883  city_40                   0.776   Male   \n",
      "17803        11634  city_40                   0.776   Male   \n",
      "17849        12243  city_40                   0.776   Male   \n",
      "18061        11208  city_40                   0.776   Male   \n",
      "18191          157  city_40                   0.776   Male   \n",
      "18650        26348  city_40                   0.776   Male   \n",
      "19142        13750  city_40                   0.776   Male   \n",
      "\n",
      "           relevent_experience enrolled_university education_level  \\\n",
      "1       No relevent experience       no_enrollment        Graduate   \n",
      "23     Has relevent experience       no_enrollment        Graduate   \n",
      "363    Has relevent experience    Part time course        Graduate   \n",
      "461    Has relevent experience    Full time course        Graduate   \n",
      "827    Has relevent experience       no_enrollment         Masters   \n",
      "998     No relevent experience    Full time course        Graduate   \n",
      "2916    No relevent experience    Full time course     High School   \n",
      "3636   Has relevent experience    Full time course        Graduate   \n",
      "4251   Has relevent experience       no_enrollment     High School   \n",
      "4346   Has relevent experience       no_enrollment        Graduate   \n",
      "4526   Has relevent experience    Full time course        Graduate   \n",
      "4588   Has relevent experience       no_enrollment        Graduate   \n",
      "5156    No relevent experience    Full time course        Graduate   \n",
      "6330   Has relevent experience       no_enrollment     High School   \n",
      "6483    No relevent experience    Full time course     High School   \n",
      "6990   Has relevent experience       no_enrollment     High School   \n",
      "7009   Has relevent experience       no_enrollment         Masters   \n",
      "8606   Has relevent experience       no_enrollment        Graduate   \n",
      "8661   Has relevent experience       no_enrollment        Graduate   \n",
      "8847   Has relevent experience       no_enrollment         Masters   \n",
      "9390   Has relevent experience       no_enrollment        Graduate   \n",
      "9658   Has relevent experience       no_enrollment         Masters   \n",
      "10952  Has relevent experience       no_enrollment        Graduate   \n",
      "11072  Has relevent experience       no_enrollment        Graduate   \n",
      "11700  Has relevent experience       no_enrollment        Graduate   \n",
      "12228  Has relevent experience    Part time course        Graduate   \n",
      "12601  Has relevent experience    Part time course        Graduate   \n",
      "12782  Has relevent experience       no_enrollment        Graduate   \n",
      "13385  Has relevent experience       no_enrollment         Masters   \n",
      "13520  Has relevent experience                 NaN        Graduate   \n",
      "14231  Has relevent experience       no_enrollment     High School   \n",
      "14462  Has relevent experience       no_enrollment         Masters   \n",
      "15553  Has relevent experience       no_enrollment        Graduate   \n",
      "16174  Has relevent experience       no_enrollment        Graduate   \n",
      "17315  Has relevent experience       no_enrollment         Masters   \n",
      "17324  Has relevent experience       no_enrollment        Graduate   \n",
      "17761  Has relevent experience    Part time course        Graduate   \n",
      "17803  Has relevent experience       no_enrollment        Graduate   \n",
      "17849   No relevent experience    Full time course        Graduate   \n",
      "18061   No relevent experience    Full time course        Graduate   \n",
      "18191  Has relevent experience    Full time course        Graduate   \n",
      "18650  Has relevent experience       no_enrollment     High School   \n",
      "19142  Has relevent experience       no_enrollment             NaN   \n",
      "\n",
      "      major_discipline  experience company_size         company_type  \\\n",
      "1                 STEM        15.0        50-99              Pvt Ltd   \n",
      "23          Humanities         0.0    1000-4999              Pvt Ltd   \n",
      "363               STEM        18.0      100-500       Funded Startup   \n",
      "461               STEM        14.0    1000-4999              Pvt Ltd   \n",
      "827               STEM         7.0       10000+              Pvt Ltd   \n",
      "998               STEM         9.0          NaN                  NaN   \n",
      "2916               NaN         5.0          NaN                  NaN   \n",
      "3636              STEM        10.0    1000-4999              Pvt Ltd   \n",
      "4251               NaN         3.0        50-99              Pvt Ltd   \n",
      "4346              STEM        20.0    1000-4999              Pvt Ltd   \n",
      "4526              STEM         3.0        50-99              Pvt Ltd   \n",
      "4588              STEM         5.0          <10              Pvt Ltd   \n",
      "5156              STEM         5.0          NaN                  NaN   \n",
      "6330               NaN         1.0        10/49              Pvt Ltd   \n",
      "6483               NaN         3.0          NaN              Pvt Ltd   \n",
      "6990               NaN        16.0      100-500       Funded Startup   \n",
      "7009              STEM        10.0    1000-4999              Pvt Ltd   \n",
      "8606             Other         4.0          <10              Pvt Ltd   \n",
      "8661        Humanities        20.0          NaN                  NaN   \n",
      "8847             Other        10.0          <10              Pvt Ltd   \n",
      "9390              STEM        10.0      500-999              Pvt Ltd   \n",
      "9658              STEM         6.0          <10              Pvt Ltd   \n",
      "10952             STEM        20.0        10/49              Pvt Ltd   \n",
      "11072             STEM        20.0          NaN                  NaN   \n",
      "11700         No Major         6.0          <10              Pvt Ltd   \n",
      "12228             STEM        20.0      100-500        Public Sector   \n",
      "12601             STEM        10.0        10/49              Pvt Ltd   \n",
      "12782             STEM        20.0          <10              Pvt Ltd   \n",
      "13385             STEM        15.0        50-99              Pvt Ltd   \n",
      "13520             STEM         5.0        50-99                  NaN   \n",
      "14231              NaN        19.0          NaN                  NaN   \n",
      "14462             STEM         7.0        50-99                  NaN   \n",
      "15553             STEM         4.0          NaN                  NaN   \n",
      "16174       Humanities        11.0        10/49              Pvt Ltd   \n",
      "17315             STEM        10.0      100-500              Pvt Ltd   \n",
      "17324             STEM        20.0          NaN                  NaN   \n",
      "17761             STEM         5.0        50-99              Pvt Ltd   \n",
      "17803             STEM         4.0        10/49              Pvt Ltd   \n",
      "17849             STEM         7.0          NaN                  NaN   \n",
      "18061             STEM         0.0          NaN                  NaN   \n",
      "18191             STEM         5.0       10000+              Pvt Ltd   \n",
      "18650              NaN        13.0        50-99              Pvt Ltd   \n",
      "19142              NaN         5.0        10/49  Early Stage Startup   \n",
      "\n",
      "       training_hours  target  \n",
      "1                47.0     0.0  \n",
      "23               65.0     0.0  \n",
      "363              51.0     0.0  \n",
      "461              52.0     0.0  \n",
      "827              56.0     0.0  \n",
      "998              50.0     0.0  \n",
      "2916             56.0     1.0  \n",
      "3636            104.0     0.0  \n",
      "4251             28.0     0.0  \n",
      "4346             20.0     0.0  \n",
      "4526              9.0     0.0  \n",
      "4588              4.0     0.0  \n",
      "5156            330.0     0.0  \n",
      "6330             89.0     0.0  \n",
      "6483             22.0     0.0  \n",
      "6990             76.0     0.0  \n",
      "7009             32.0     0.0  \n",
      "8606            108.0     0.0  \n",
      "8661             29.0     0.0  \n",
      "8847             35.0     0.0  \n",
      "9390             32.0     0.0  \n",
      "9658             54.0     0.0  \n",
      "10952            15.0     0.0  \n",
      "11072            22.0     0.0  \n",
      "11700           144.0     0.0  \n",
      "12228            89.0     0.0  \n",
      "12601            13.0     0.0  \n",
      "12782            58.0     0.0  \n",
      "13385            78.0     0.0  \n",
      "13520            98.0     0.0  \n",
      "14231            72.0     0.0  \n",
      "14462            25.0     1.0  \n",
      "15553            89.0     1.0  \n",
      "16174            50.0     0.0  \n",
      "17315            22.0     0.0  \n",
      "17324            90.0     0.0  \n",
      "17761            98.0     0.0  \n",
      "17803            61.0     0.0  \n",
      "17849             1.0     0.0  \n",
      "18061           127.0     1.0  \n",
      "18191            42.0     0.0  \n",
      "18650            10.0     0.0  \n",
      "19142            26.0     0.0  \n"
     ]
    }
   ],
   "source": [
    "df_filtered = df[(df['gender'] == 'Male') & (df['city'] == 'city_40')]\n",
    "print(df_filtered)"
   ]
  },
  {
   "cell_type": "markdown",
   "id": "63ac1e87-f004-4c6c-91cd-e34a80ab7404",
   "metadata": {},
   "source": [
    "### Step 5"
   ]
  },
  {
   "cell_type": "markdown",
   "id": "8eb47758-48ae-4d12-b55e-d8289dd8e799",
   "metadata": {},
   "source": [
    "### Data Cleaning & Handling Missing Values in Pandas"
   ]
  },
  {
   "cell_type": "markdown",
   "id": "c2111381-de0b-42e2-959e-04dc92d49ebe",
   "metadata": {},
   "source": [
    "### Checking for Missing Values"
   ]
  },
  {
   "cell_type": "code",
   "execution_count": 181,
   "id": "98d19b66-f92b-4f0e-bc27-24154b8e3db3",
   "metadata": {},
   "outputs": [
    {
     "name": "stdout",
     "output_type": "stream",
     "text": [
      "    Name    Age   City  Salary\n",
      "0  False  False  False   False\n",
      "1  False   True  False   False\n",
      "2  False  False   True   False\n",
      "3  False  False  False    True\n"
     ]
    }
   ],
   "source": [
    "data = {\n",
    "    'Name': ['Alice', 'Bob', 'Charlie', 'David'],\n",
    "    'Age': [25, None, 35, 40],  \n",
    "    'City': ['New York', 'Los Angeles', None, 'Chicago'],  \n",
    "    'Salary': [50000, 60000, 70000, None]  \n",
    "}\n",
    "\n",
    "df = pd.DataFrame(data)\n",
    "\n",
    "print(df.isnull())"
   ]
  },
  {
   "cell_type": "markdown",
   "id": "f9272356-edef-4834-bc30-1405b0f6a7aa",
   "metadata": {},
   "source": [
    "### Count Missing Values Per Column"
   ]
  },
  {
   "cell_type": "code",
   "execution_count": 182,
   "id": "f79a707d-802f-4bc3-babc-b4403b7db975",
   "metadata": {},
   "outputs": [
    {
     "name": "stdout",
     "output_type": "stream",
     "text": [
      "Name      0\n",
      "Age       1\n",
      "City      1\n",
      "Salary    1\n",
      "dtype: int64\n"
     ]
    }
   ],
   "source": [
    "print(df.isnull().sum())"
   ]
  },
  {
   "cell_type": "markdown",
   "id": "e6ee049e-a3d8-40b7-a410-a820b2ac380c",
   "metadata": {},
   "source": [
    "### Fill Missing Values with a Specific Value"
   ]
  },
  {
   "cell_type": "code",
   "execution_count": 184,
   "id": "f3e006dc-79e4-42f7-9714-94824499d523",
   "metadata": {},
   "outputs": [
    {
     "name": "stdout",
     "output_type": "stream",
     "text": [
      "      Name   Age         City   Salary\n",
      "0    Alice  25.0     New York  50000.0\n",
      "1      Bob   0.0  Los Angeles  60000.0\n",
      "2  Charlie  35.0            0  70000.0\n",
      "3    David  40.0      Chicago      0.0\n"
     ]
    }
   ],
   "source": [
    "df_filled = df.fillna(0)\n",
    "print(df_filled)"
   ]
  },
  {
   "cell_type": "markdown",
   "id": "0150a369-9166-4988-8292-2618b1a5d943",
   "metadata": {},
   "source": [
    "### Fill Missing Values with Column Mean (for Numerical Data)"
   ]
  },
  {
   "cell_type": "code",
   "execution_count": 185,
   "id": "d1090eaf-1eaf-4dee-ad45-f2321725f1a0",
   "metadata": {},
   "outputs": [
    {
     "name": "stderr",
     "output_type": "stream",
     "text": [
      "C:\\Users\\msi\\AppData\\Local\\Temp\\ipykernel_8152\\89747827.py:1: FutureWarning: A value is trying to be set on a copy of a DataFrame or Series through chained assignment using an inplace method.\n",
      "The behavior will change in pandas 3.0. This inplace method will never work because the intermediate object on which we are setting values always behaves as a copy.\n",
      "\n",
      "For example, when doing 'df[col].method(value, inplace=True)', try using 'df.method({col: value}, inplace=True)' or df[col] = df[col].method(value) instead, to perform the operation inplace on the original object.\n",
      "\n",
      "\n",
      "  df['Age'].fillna(df['Age'].mean(), inplace=True)\n",
      "C:\\Users\\msi\\AppData\\Local\\Temp\\ipykernel_8152\\89747827.py:2: FutureWarning: A value is trying to be set on a copy of a DataFrame or Series through chained assignment using an inplace method.\n",
      "The behavior will change in pandas 3.0. This inplace method will never work because the intermediate object on which we are setting values always behaves as a copy.\n",
      "\n",
      "For example, when doing 'df[col].method(value, inplace=True)', try using 'df.method({col: value}, inplace=True)' or df[col] = df[col].method(value) instead, to perform the operation inplace on the original object.\n",
      "\n",
      "\n",
      "  df['Salary'].fillna(df['Salary'].median(), inplace=True)\n"
     ]
    }
   ],
   "source": [
    "df['Age'].fillna(df['Age'].mean(), inplace=True) \n",
    "df['Salary'].fillna(df['Salary'].median(), inplace=True)  "
   ]
  },
  {
   "cell_type": "markdown",
   "id": "07a8fb08-32fc-4385-9f37-3937d102cc4a",
   "metadata": {},
   "source": [
    "### Fill Missing Values with Mode (Most Frequent Value)"
   ]
  },
  {
   "cell_type": "code",
   "execution_count": 186,
   "id": "bb41a4dc-e155-4725-b2cf-795550cc0500",
   "metadata": {},
   "outputs": [
    {
     "name": "stderr",
     "output_type": "stream",
     "text": [
      "C:\\Users\\msi\\AppData\\Local\\Temp\\ipykernel_8152\\1488218936.py:1: FutureWarning: A value is trying to be set on a copy of a DataFrame or Series through chained assignment using an inplace method.\n",
      "The behavior will change in pandas 3.0. This inplace method will never work because the intermediate object on which we are setting values always behaves as a copy.\n",
      "\n",
      "For example, when doing 'df[col].method(value, inplace=True)', try using 'df.method({col: value}, inplace=True)' or df[col] = df[col].method(value) instead, to perform the operation inplace on the original object.\n",
      "\n",
      "\n",
      "  df['City'].fillna(df['City'].mode()[0], inplace=True)\n"
     ]
    }
   ],
   "source": [
    "df['City'].fillna(df['City'].mode()[0], inplace=True)"
   ]
  },
  {
   "cell_type": "markdown",
   "id": "39c0b07f-a5bd-4aca-bab2-7bd23e958371",
   "metadata": {},
   "source": [
    "### Forward Fill (ffill)\n",
    "Fills missing values with the previous row’s value."
   ]
  },
  {
   "cell_type": "code",
   "execution_count": 187,
   "id": "e1909120-44b1-44f1-b657-8178db97a62e",
   "metadata": {},
   "outputs": [
    {
     "name": "stderr",
     "output_type": "stream",
     "text": [
      "C:\\Users\\msi\\AppData\\Local\\Temp\\ipykernel_8152\\3970806690.py:1: FutureWarning: DataFrame.fillna with 'method' is deprecated and will raise in a future version. Use obj.ffill() or obj.bfill() instead.\n",
      "  df.fillna(method='ffill', inplace=True)\n"
     ]
    }
   ],
   "source": [
    "df.fillna(method='ffill', inplace=True)"
   ]
  },
  {
   "cell_type": "markdown",
   "id": "a763242f-55cf-40b8-ae5b-2e2b046f7f98",
   "metadata": {},
   "source": [
    "### Backward Fill (bfill)\n",
    "Fills missing values with the next row’s value."
   ]
  },
  {
   "cell_type": "code",
   "execution_count": 188,
   "id": "e336b9b9-20cd-41d6-8459-d60feccb7527",
   "metadata": {},
   "outputs": [
    {
     "name": "stderr",
     "output_type": "stream",
     "text": [
      "C:\\Users\\msi\\AppData\\Local\\Temp\\ipykernel_8152\\3314729575.py:1: FutureWarning: DataFrame.fillna with 'method' is deprecated and will raise in a future version. Use obj.ffill() or obj.bfill() instead.\n",
      "  df.fillna(method='bfill', inplace=True)\n"
     ]
    }
   ],
   "source": [
    "df.fillna(method='bfill', inplace=True)"
   ]
  },
  {
   "cell_type": "code",
   "execution_count": 189,
   "id": "47da5280-e28c-4297-899e-e4f4a65e1331",
   "metadata": {},
   "outputs": [
    {
     "name": "stdout",
     "output_type": "stream",
     "text": [
      "Name      0\n",
      "Age       0\n",
      "City      0\n",
      "Salary    0\n",
      "dtype: int64\n"
     ]
    }
   ],
   "source": [
    "print(df.isnull().sum())"
   ]
  },
  {
   "cell_type": "markdown",
   "id": "882574c2-36a9-4e41-a31a-69a0779b2b79",
   "metadata": {},
   "source": [
    "### Dropping Missing Values (df.dropna())"
   ]
  },
  {
   "cell_type": "markdown",
   "id": "bc30a29d-4497-4061-b5e4-cd5c39cf60fc",
   "metadata": {},
   "source": [
    "### Drop Rows with Missing Values"
   ]
  },
  {
   "cell_type": "code",
   "execution_count": 191,
   "id": "8a9af2c6-eb26-4abb-937a-20cf6c85b660",
   "metadata": {},
   "outputs": [
    {
     "name": "stdout",
     "output_type": "stream",
     "text": [
      "      Name        Age         City   Salary\n",
      "0    Alice  25.000000     New York  50000.0\n",
      "1      Bob  33.333333  Los Angeles  60000.0\n",
      "2  Charlie  35.000000      Chicago  70000.0\n",
      "3    David  40.000000      Chicago  60000.0\n"
     ]
    }
   ],
   "source": [
    "df_dropped = df.dropna()\n",
    "print(df_dropped)"
   ]
  },
  {
   "cell_type": "markdown",
   "id": "689516df-5dcb-4e6d-80e7-18a87aca1740",
   "metadata": {},
   "source": [
    "### Drop Columns with Missing Values"
   ]
  },
  {
   "cell_type": "code",
   "execution_count": 192,
   "id": "7cd63f7d-267a-4448-865a-a6da729f52cd",
   "metadata": {},
   "outputs": [
    {
     "name": "stdout",
     "output_type": "stream",
     "text": [
      "      Name        Age         City   Salary\n",
      "0    Alice  25.000000     New York  50000.0\n",
      "1      Bob  33.333333  Los Angeles  60000.0\n",
      "2  Charlie  35.000000      Chicago  70000.0\n",
      "3    David  40.000000      Chicago  60000.0\n"
     ]
    }
   ],
   "source": [
    "df_dropped_cols = df.dropna(axis=1)\n",
    "print(df_dropped_cols)"
   ]
  },
  {
   "cell_type": "markdown",
   "id": "44b17509-8c90-4f23-85cf-c2e0b88692c2",
   "metadata": {},
   "source": [
    "### Drop Rows Only if All Values are Missing"
   ]
  },
  {
   "cell_type": "code",
   "execution_count": 193,
   "id": "c0571144-4c7a-464c-8ae0-29aec13a6ff4",
   "metadata": {},
   "outputs": [],
   "source": [
    "df.dropna(how='all', inplace=True)"
   ]
  },
  {
   "cell_type": "markdown",
   "id": "3e6660e5-1af0-4414-882d-9cce921dbca3",
   "metadata": {},
   "source": [
    "### Drop Rows if a Specific Column has Missing Values"
   ]
  },
  {
   "cell_type": "code",
   "execution_count": 194,
   "id": "5aaa2de8-33d1-42c5-acb8-17e76322b2f8",
   "metadata": {},
   "outputs": [],
   "source": [
    "df.dropna(subset=['Age'], inplace=True)"
   ]
  },
  {
   "cell_type": "code",
   "execution_count": 195,
   "id": "82abc8c3-0c05-4a7d-84c3-36be055e73ff",
   "metadata": {},
   "outputs": [
    {
     "name": "stdout",
     "output_type": "stream",
     "text": [
      "      Name        Age         City   Salary\n",
      "0    Alice  25.000000     New York  50000.0\n",
      "1      Bob  33.333333  Los Angeles  60000.0\n",
      "2  Charlie  35.000000      Chicago  70000.0\n",
      "3    David  40.000000      Chicago  60000.0\n"
     ]
    }
   ],
   "source": [
    "print(df.head())"
   ]
  },
  {
   "cell_type": "markdown",
   "id": "c6eaea57-9309-4676-a52e-cb57230f1835",
   "metadata": {},
   "source": [
    "### Now let's go to learn Cleaning & Handling Missing Values in Pandas with realy data"
   ]
  },
  {
   "cell_type": "code",
   "execution_count": 197,
   "id": "fc337aa6-1bd8-4262-8dab-15fd60518e90",
   "metadata": {},
   "outputs": [
    {
     "name": "stdout",
     "output_type": "stream",
     "text": [
      "   enrollee_id      city  city_development_index gender  \\\n",
      "0         8949  city_103                   0.920   Male   \n",
      "1        29725   city_40                   0.776   Male   \n",
      "2        11561   city_21                   0.624    NaN   \n",
      "3        33241  city_115                   0.789    NaN   \n",
      "4          666  city_162                   0.767   Male   \n",
      "\n",
      "       relevent_experience enrolled_university education_level  \\\n",
      "0  Has relevent experience       no_enrollment        Graduate   \n",
      "1   No relevent experience       no_enrollment        Graduate   \n",
      "2   No relevent experience    Full time course        Graduate   \n",
      "3   No relevent experience                 NaN        Graduate   \n",
      "4  Has relevent experience       no_enrollment         Masters   \n",
      "\n",
      "  major_discipline  experience company_size    company_type  training_hours  \\\n",
      "0             STEM        20.0          NaN             NaN            36.0   \n",
      "1             STEM        15.0        50-99         Pvt Ltd            47.0   \n",
      "2             STEM         5.0          NaN             NaN            83.0   \n",
      "3  Business Degree         0.0          NaN         Pvt Ltd            52.0   \n",
      "4             STEM        20.0        50-99  Funded Startup             8.0   \n",
      "\n",
      "   target  \n",
      "0     1.0  \n",
      "1     0.0  \n",
      "2     0.0  \n",
      "3     1.0  \n",
      "4     0.0  \n"
     ]
    }
   ],
   "source": [
    "df = pd.read_csv('data.csv')\n",
    "\n",
    "print(df.head())"
   ]
  },
  {
   "cell_type": "markdown",
   "id": "281d52ac-7521-41bf-bed1-e34bdc5e0659",
   "metadata": {},
   "source": [
    "### Learn more about data type"
   ]
  },
  {
   "cell_type": "code",
   "execution_count": 171,
   "id": "725181ee-dbeb-42cc-86f8-2b00414303eb",
   "metadata": {},
   "outputs": [
    {
     "name": "stdout",
     "output_type": "stream",
     "text": [
      "<class 'pandas.core.frame.DataFrame'>\n",
      "RangeIndex: 19158 entries, 0 to 19157\n",
      "Data columns (total 13 columns):\n",
      " #   Column                  Non-Null Count  Dtype  \n",
      "---  ------                  --------------  -----  \n",
      " 0   enrollee_id             19158 non-null  int64  \n",
      " 1   city                    19158 non-null  object \n",
      " 2   city_development_index  18679 non-null  float64\n",
      " 3   gender                  14650 non-null  object \n",
      " 4   relevent_experience     19158 non-null  object \n",
      " 5   enrolled_university     18772 non-null  object \n",
      " 6   education_level         18698 non-null  object \n",
      " 7   major_discipline        16345 non-null  object \n",
      " 8   experience              19093 non-null  float64\n",
      " 9   company_size            13220 non-null  object \n",
      " 10  company_type            13018 non-null  object \n",
      " 11  training_hours          18392 non-null  float64\n",
      " 12  target                  19158 non-null  float64\n",
      "dtypes: float64(4), int64(1), object(8)\n",
      "memory usage: 1.9+ MB\n",
      "None\n"
     ]
    }
   ],
   "source": [
    "print(df.info())"
   ]
  },
  {
   "cell_type": "markdown",
   "id": "b2d3ca76-fd64-4a90-9bf5-2d8811184088",
   "metadata": {},
   "source": [
    "### we have - dtypes: float64(4), int64(1), object(8)"
   ]
  },
  {
   "cell_type": "markdown",
   "id": "7499c797-22f3-4d88-8830-cac968382196",
   "metadata": {},
   "source": [
    "### Check for missing values"
   ]
  },
  {
   "cell_type": "code",
   "execution_count": 172,
   "id": "ce5cdb30-5577-4728-9be2-b3a3f5bc4b4d",
   "metadata": {},
   "outputs": [
    {
     "name": "stdout",
     "output_type": "stream",
     "text": [
      "enrollee_id                  0\n",
      "city                         0\n",
      "city_development_index     479\n",
      "gender                    4508\n",
      "relevent_experience          0\n",
      "enrolled_university        386\n",
      "education_level            460\n",
      "major_discipline          2813\n",
      "experience                  65\n",
      "company_size              5938\n",
      "company_type              6140\n",
      "training_hours             766\n",
      "target                       0\n",
      "dtype: int64\n"
     ]
    }
   ],
   "source": [
    "print(df.isnull().sum())"
   ]
  },
  {
   "cell_type": "markdown",
   "id": "04a5771e-004f-46eb-998b-b18f9a87cf8d",
   "metadata": {},
   "source": [
    "### Check percentage of missing values"
   ]
  },
  {
   "cell_type": "code",
   "execution_count": 174,
   "id": "920aa809-39d6-4452-8f90-6c1bcee0206a",
   "metadata": {},
   "outputs": [
    {
     "name": "stdout",
     "output_type": "stream",
     "text": [
      "enrollee_id                0.000000\n",
      "city                       0.000000\n",
      "city_development_index     2.500261\n",
      "gender                    23.530640\n",
      "relevent_experience        0.000000\n",
      "enrolled_university        2.014824\n",
      "education_level            2.401086\n",
      "major_discipline          14.683161\n",
      "experience                 0.339284\n",
      "company_size              30.994885\n",
      "company_type              32.049274\n",
      "training_hours             3.998330\n",
      "target                     0.000000\n",
      "dtype: float64\n"
     ]
    }
   ],
   "source": [
    "missing_percenttage = (df.isnull().sum() / len(df)) * 100\n",
    "print(missing_percenttage)"
   ]
  },
  {
   "cell_type": "markdown",
   "id": "fda2cfdb-dbb7-44ff-b84a-ac2333fbae1a",
   "metadata": {},
   "source": [
    "# 📌 Handling Missing Values Guide\n",
    "\n",
    "| **Data Type** | **Missing Percentage** | **Best Handling Method** | **When to Use This Method?** |\n",
    "|--------------|-----------------|----------------------|------------------|\n",
    "| **🔹 Numerical Data (`int64`, `float64`)** | **Less than 5%**  | `mean()` or `median()` | If the impact is minimal |\n",
    "| | **5% - 30%** | `median()` if outliers exist, `mean()` if normally distributed | When the missing percentage is moderate |\n",
    "| | **More than 30%** | `median()` if the column is important; otherwise, drop it | If the remaining values are sufficient |\n",
    "| | **More than 50%** | Drop the column | When the remaining values are too few |\n",
    "| **🔹 Categorical Data (`object`)** | **Less than 5%**  | `mode()` (most frequent value) | If the impact is minimal |\n",
    "| | **5% - 30%** | `mode()` or `ffill()` / `bfill()` | If the data has a logical sequence |\n",
    "| | **More than 30%** | `mode()` if the column is important; otherwise, drop it | If the remaining values are sufficient |\n",
    "| | **More than 50%** | Drop the column | If the missing data is too significant |\n",
    "| **🔹 Date/Time Data (`datetime64`)** | **Less than 5%**  | `ffill()` or `bfill()` | If there is a chronological order |\n",
    "| | **5% - 30%** | `interpolate()` or `bfill()` | If time continuity is important |\n",
    "| | **More than 30%** | `interpolate()` or drop missing rows | If sufficient data remains |\n",
    "| | **More than 50%** | Drop the column or remove missing data | If the data is no longer meaningful |\n",
    "| **🔹 Categorical (Ordinal) Data** | **Less than 5%**  | `mode()` | If categories are stable |\n",
    "| | **5% - 30%** | `mode()` or `ffill()` | If the category can be inferred |\n",
    "| | **More than 30%** | `mode()` if the column is important; otherwise, drop it | If the remaining values are sufficient |\n",
    "| | **More than 50%** | Drop the column | If too much data is lost |\n"
   ]
  },
  {
   "cell_type": "code",
   "execution_count": 202,
   "id": "ba0a18bb-26a2-4c23-80cf-f96ad8d588ad",
   "metadata": {},
   "outputs": [
    {
     "name": "stderr",
     "output_type": "stream",
     "text": [
      "C:\\Users\\msi\\AppData\\Local\\Temp\\ipykernel_8152\\2041762407.py:1: FutureWarning: A value is trying to be set on a copy of a DataFrame or Series through chained assignment using an inplace method.\n",
      "The behavior will change in pandas 3.0. This inplace method will never work because the intermediate object on which we are setting values always behaves as a copy.\n",
      "\n",
      "For example, when doing 'df[col].method(value, inplace=True)', try using 'df.method({col: value}, inplace=True)' or df[col] = df[col].method(value) instead, to perform the operation inplace on the original object.\n",
      "\n",
      "\n",
      "  df['city_development_index'].fillna(df['city_development_index'].mean() , inplace=True)\n",
      "C:\\Users\\msi\\AppData\\Local\\Temp\\ipykernel_8152\\2041762407.py:2: FutureWarning: A value is trying to be set on a copy of a DataFrame or Series through chained assignment using an inplace method.\n",
      "The behavior will change in pandas 3.0. This inplace method will never work because the intermediate object on which we are setting values always behaves as a copy.\n",
      "\n",
      "For example, when doing 'df[col].method(value, inplace=True)', try using 'df.method({col: value}, inplace=True)' or df[col] = df[col].method(value) instead, to perform the operation inplace on the original object.\n",
      "\n",
      "\n",
      "  df['experience'].fillna(df['experience'].mean() , inplace = True)\n",
      "C:\\Users\\msi\\AppData\\Local\\Temp\\ipykernel_8152\\2041762407.py:3: FutureWarning: A value is trying to be set on a copy of a DataFrame or Series through chained assignment using an inplace method.\n",
      "The behavior will change in pandas 3.0. This inplace method will never work because the intermediate object on which we are setting values always behaves as a copy.\n",
      "\n",
      "For example, when doing 'df[col].method(value, inplace=True)', try using 'df.method({col: value}, inplace=True)' or df[col] = df[col].method(value) instead, to perform the operation inplace on the original object.\n",
      "\n",
      "\n",
      "  df['training_hours'].fillna(df['training_hours'].mean() , inplace=True)\n"
     ]
    }
   ],
   "source": [
    "df['city_development_index'].fillna(df['city_development_index'].mean() , inplace=True)\n",
    "df['experience'].fillna(df['experience'].mean() , inplace = True)\n",
    "df['training_hours'].fillna(df['training_hours'].mean() , inplace=True)"
   ]
  },
  {
   "cell_type": "code",
   "execution_count": 204,
   "id": "5bba286e-b431-4fdd-bb92-0387ae66195a",
   "metadata": {},
   "outputs": [],
   "source": [
    "categorical_cols = ['gender', 'enrolled_university', 'education_level', 'major_discipline', 'company_size', 'company_type']\n",
    "\n",
    "for col in categorical_cols:\n",
    "    df[col].fillna(df[col].mode()[0] , inplace = True)"
   ]
  },
  {
   "cell_type": "markdown",
   "id": "bf60b385-93d3-4411-9c78-003b7fa5519d",
   "metadata": {},
   "source": [
    "### Check for missing values"
   ]
  },
  {
   "cell_type": "code",
   "execution_count": 205,
   "id": "824f4113-8015-4be0-8f00-ff57e27c76cf",
   "metadata": {},
   "outputs": [
    {
     "name": "stdout",
     "output_type": "stream",
     "text": [
      "enrollee_id               0\n",
      "city                      0\n",
      "city_development_index    0\n",
      "gender                    0\n",
      "relevent_experience       0\n",
      "enrolled_university       0\n",
      "education_level           0\n",
      "major_discipline          0\n",
      "experience                0\n",
      "company_size              0\n",
      "company_type              0\n",
      "training_hours            0\n",
      "target                    0\n",
      "dtype: int64\n"
     ]
    }
   ],
   "source": [
    "print(df.isnull().sum())"
   ]
  },
  {
   "cell_type": "markdown",
   "id": "b76e26d5-8a6c-45d4-a844-b4363b0e8c44",
   "metadata": {},
   "source": [
    "### We save the new cleaned data"
   ]
  },
  {
   "cell_type": "code",
   "execution_count": 206,
   "id": "e99d28dc-acb1-4417-9fa8-caa55b99b578",
   "metadata": {},
   "outputs": [],
   "source": [
    "df.to_csv('cleaned_data.csv', index=False)"
   ]
  },
  {
   "cell_type": "code",
   "execution_count": null,
   "id": "e0f7374e-c2d0-4749-888b-4a1e81011b11",
   "metadata": {},
   "outputs": [],
   "source": []
  }
 ],
 "metadata": {
  "kernelspec": {
   "display_name": "Python 3 (ipykernel)",
   "language": "python",
   "name": "python3"
  },
  "language_info": {
   "codemirror_mode": {
    "name": "ipython",
    "version": 3
   },
   "file_extension": ".py",
   "mimetype": "text/x-python",
   "name": "python",
   "nbconvert_exporter": "python",
   "pygments_lexer": "ipython3",
   "version": "3.12.7"
  }
 },
 "nbformat": 4,
 "nbformat_minor": 5
}
